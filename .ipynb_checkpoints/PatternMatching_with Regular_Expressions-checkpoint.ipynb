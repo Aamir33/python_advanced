{
 "cells": [
  {
   "cell_type": "code",
   "execution_count": 1,
   "id": "d3fb54b2",
   "metadata": {},
   "outputs": [],
   "source": [
    "import re\n",
    "def find_pattern_in_string(pattern, string):\n",
    "    return re.findall(pattern, string)"
   ]
  },
  {
   "cell_type": "code",
   "execution_count": 2,
   "id": "d46f73a3",
   "metadata": {},
   "outputs": [],
   "source": [
    "string = \"The quick brown fox jumps over the lazy dog.\""
   ]
  },
  {
   "cell_type": "code",
   "execution_count": 3,
   "id": "9feb5c64",
   "metadata": {},
   "outputs": [],
   "source": [
    "pattern = r\"\\b\\w{5}\\b\""
   ]
  },
  {
   "cell_type": "code",
   "execution_count": 4,
   "id": "19c7e4d7",
   "metadata": {},
   "outputs": [
    {
     "name": "stdout",
     "output_type": "stream",
     "text": [
      "['quick', 'brown', 'jumps']\n"
     ]
    }
   ],
   "source": [
    "result = find_pattern_in_string(pattern, string)\n",
    "print(result)  # Output: ['quick', 'brown', 'jumps']"
   ]
  },
  {
   "cell_type": "code",
   "execution_count": null,
   "id": "069fc6ff",
   "metadata": {},
   "outputs": [],
   "source": []
  },
  {
   "cell_type": "code",
   "execution_count": 5,
   "id": "b0406b67",
   "metadata": {},
   "outputs": [],
   "source": [
    "str1 = 'raw/patent/CN/20230105/A/et'\n",
    "str2 = 'raw/patent/ds//nq/s8822/l454/20230105/abc129/ndn9292912/'"
   ]
  },
  {
   "cell_type": "code",
   "execution_count": 6,
   "id": "ca68aa9c",
   "metadata": {},
   "outputs": [
    {
     "data": {
      "text/plain": [
       "'20230105'"
      ]
     },
     "execution_count": 6,
     "metadata": {},
     "output_type": "execute_result"
    }
   ],
   "source": [
    "re.search(r\"\\d{8}\",url).group()"
   ]
  },
  {
   "cell_type": "code",
   "execution_count": 1,
   "id": "a5a79a89",
   "metadata": {},
   "outputs": [],
   "source": [
    "string = \"hello my name is Aamir\""
   ]
  },
  {
   "cell_type": "code",
   "execution_count": null,
   "id": "cfe73bb1",
   "metadata": {},
   "outputs": [],
   "source": []
  }
 ],
 "metadata": {
  "kernelspec": {
   "display_name": "Python 3 (ipykernel)",
   "language": "python",
   "name": "python3"
  },
  "language_info": {
   "codemirror_mode": {
    "name": "ipython",
    "version": 3
   },
   "file_extension": ".py",
   "mimetype": "text/x-python",
   "name": "python",
   "nbconvert_exporter": "python",
   "pygments_lexer": "ipython3",
   "version": "3.11.3"
  }
 },
 "nbformat": 4,
 "nbformat_minor": 5
}
