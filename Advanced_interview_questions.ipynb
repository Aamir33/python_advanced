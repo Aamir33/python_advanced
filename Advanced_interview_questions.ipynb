{
 "cells": [
  {
   "cell_type": "code",
   "execution_count": 1,
   "id": "5164f707",
   "metadata": {},
   "outputs": [],
   "source": [
    "#https://www.fullstack.cafe/blog/advanced-python-interview-questions\n",
    "#https://realpython.com/python311-new-features/"
   ]
  },
  {
   "cell_type": "markdown",
   "id": "0027f9e9",
   "metadata": {},
   "source": [
    "# 1. Global Interpreter Lock (GIL)\n",
    "- Question: Can you explain the Global Interpreter Lock (GIL) in Python 3 and how it affects multi-threading?\n",
    "- Answer: The GIL is a mutex that allows only one thread to execute Python code at a time. It exists to protect access to Python objects, ensuring thread safety. However, it can limit the performance of multi-threaded Python programs.\n",
    "- Concurrent.futures takes care of start and Join of threads \n",
    "\n",
    "Python is not thread-safe when it comes to memory management. So, if you're running multiple threads, the GIL is a bottleneck; it only allows one thread to access memory at a time. If everything is happening in one thread, then you're fine. But if multi-threading then, when one thread accesses memory, the GIL blocks all the other threads.\n",
    "\n",
    "This is a problem for multi-threaded python programs. It is not a problem for multi-processing python since each process has its own memory.\n",
    "\n",
    "See if your candidate mentions \"bottleneck\", \"multi-threading\" and \"memory management\".\n",
    "\n",
    "Solutions are to use multi-processing, use extensions written in C, or use other Python implementations like IronPython, or Cython."
   ]
  },
  {
   "cell_type": "code",
   "execution_count": 2,
   "id": "d6ef1e6b",
   "metadata": {},
   "outputs": [
    {
     "name": "stdout",
     "output_type": "stream",
     "text": [
      "1\n",
      "2\n",
      "3\n",
      "4\n",
      "5\n",
      "a\n",
      "b\n",
      "c\n",
      "d\n",
      "e\n"
     ]
    }
   ],
   "source": [
    "import threading\n",
    "\n",
    "def print_numbers():\n",
    "    for i in range(1, 6):\n",
    "        print(i)\n",
    "\n",
    "def print_letters():\n",
    "    for letter in 'abcde':\n",
    "        print(letter)\n",
    "\n",
    "t1 = threading.Thread(target=print_numbers)\n",
    "t2 = threading.Thread(target=print_letters)\n",
    "\n",
    "t1.start()\n",
    "t2.start()\n",
    "\n",
    "t1.join()\n",
    "t2.join()"
   ]
  },
  {
   "cell_type": "markdown",
   "id": "20b5c267",
   "metadata": {},
   "source": [
    "# 2. Garbage Collection:\n",
    "- Question: How does Python’s garbage collection work, and how is it different from other languages?\n",
    "- Answer: Python uses reference counting and cyclic garbage collection. Reference counting keeps track of the number of references to an object. When the count reaches zero, the object is deleted. Cyclic garbage collection identifies and collects circular references.\n",
    "\n",
    "A: A garbage collector in Python is a program that automatically frees memory that is no longer\n",
    "being used by a program. In Python, memory management is handled automatically by the\n",
    "interpreter, which uses a reference counting system to keep track of when objects are no longer\n",
    "being used. When an object's reference count drops to zero, the garbage collector is responsible\n",
    "for freeing the memory associated with that object. The garbage collector in Python is designed\n",
    "to be transparent and does not require any special action on the part of the programmer."
   ]
  },
  {
   "cell_type": "code",
   "execution_count": 3,
   "id": "68c7b017",
   "metadata": {},
   "outputs": [
    {
     "data": {
      "text/plain": [
       "154"
      ]
     },
     "execution_count": 3,
     "metadata": {},
     "output_type": "execute_result"
    }
   ],
   "source": [
    "import gc\n",
    "\n",
    "def create_circular_reference():\n",
    "    a = []\n",
    "    b = []\n",
    "    a.append(b)\n",
    "    b.append(a)\n",
    "\n",
    "create_circular_reference()\n",
    "gc.collect()  # Collect cyclic garbage\n"
   ]
  },
  {
   "cell_type": "markdown",
   "id": "e5ab9569",
   "metadata": {},
   "source": [
    "# 3. Shallow Copy vs. Deep Copy:\n",
    "- Question: Explain the difference between a shallow copy and a deep copy in Python.\n",
    "- Answer: A shallow copy creates a new object but references the same nested objects. A deep copy creates a new object and recursively copies all nested objects, ensuring complete independence."
   ]
  },
  {
   "cell_type": "code",
   "execution_count": 4,
   "id": "a3f632c2",
   "metadata": {},
   "outputs": [
    {
     "name": "stdout",
     "output_type": "stream",
     "text": [
      "Shallow copy: [1, [99, 3], [4, 5]]\n",
      "Deep copy: [1, [2, 3], [4, 5]]\n"
     ]
    }
   ],
   "source": [
    "import copy\n",
    "\n",
    "original_list = [1, [2, 3], [4, 5]]\n",
    "shallow_copy = copy.copy(original_list)\n",
    "deep_copy = copy.deepcopy(original_list)\n",
    "\n",
    "original_list[1][0] = 99\n",
    "\n",
    "print(\"Shallow copy:\", shallow_copy)  # [1, [99, 3], [4, 5]]\n",
    "print(\"Deep copy:\", deep_copy)  # [1, [2, 3], [4, 5]]\n"
   ]
  },
  {
   "cell_type": "markdown",
   "id": "51aeae02",
   "metadata": {},
   "source": [
    "# 4. Decorators:\n",
    "- Question: What are decorators in Python, and how would you use them?\n",
    "- Answer: Decorators are functions that modify or enhance other functions or methods. They allow you to add functionality to existing code without modifying it directly. Common use cases include logging, authentication, and memoization."
   ]
  },
  {
   "cell_type": "code",
   "execution_count": 5,
   "id": "02f2fb4a",
   "metadata": {},
   "outputs": [
    {
     "name": "stdout",
     "output_type": "stream",
     "text": [
      "Calling add with args: (3, 5), kwargs: {}\n",
      "add returned: 8\n"
     ]
    },
    {
     "data": {
      "text/plain": [
       "8"
      ]
     },
     "execution_count": 5,
     "metadata": {},
     "output_type": "execute_result"
    }
   ],
   "source": [
    "def log_function_call(func):\n",
    "    def wrapper(*args, **kwargs):\n",
    "        print(f\"Calling {func.__name__} with args: {args}, kwargs: {kwargs}\")\n",
    "        result = func(*args, **kwargs)\n",
    "        print(f\"{func.__name__} returned: {result}\")\n",
    "        return result\n",
    "    return wrapper\n",
    "\n",
    "@log_function_call\n",
    "def add(a, b):\n",
    "    return a + b\n",
    "\n",
    "add(3, 5)  # Output: Calling add with args: (3, 5), kwargs: {}, add returned: 8\n"
   ]
  },
  {
   "cell_type": "markdown",
   "id": "036bf2f6",
   "metadata": {},
   "source": [
    "# 5. Python Frameworks"
   ]
  },
  {
   "cell_type": "markdown",
   "id": "2b097032",
   "metadata": {},
   "source": [
    "### https://kinsta.com/blog/python-frameworks/\n",
    "## Python Frameworks can be categorized into three types:\n",
    "- **Full-Stack Frameworks:** These provide everything a developer needs to build a complete web application from start to finish. This includes creating the frontend and the backend, including common functionality like creating database records, handling HTTP requests, and controlling the security of the application1.\n",
    "\n",
    "\n",
    "- **Microframeworks:** These are minimalistic frameworks that provide only the essential components needed to build some sort of application. They are designed to be lightweight and easy to extend, making them a good choice for small projects or for developers who want more control over their code1.\n",
    "\n",
    "- **Asynchronous Frameworks:** These are designed to handle concurrency and parallelism, allowing developers to build applications that can perform multiple tasks simultaneously1."
   ]
  },
  {
   "cell_type": "markdown",
   "id": "c074a175",
   "metadata": {},
   "source": [
    "### Here are some popular Python frameworks:\n",
    "\n",
    "- **Django:** A high-level Python framework that facilitates concise design and rapid development. It offers features like ORM, URL routing, and database schema migration4.\n",
    "- **Flask:** A micro-framework written in Python. It provides tools to facilitate the web development process4.\n",
    "- **CherryPy:** An open-source, object-oriented micro-framework5.\n",
    "- **Bottle:** A microframework that creates a single source file for every developed application using it5.\n",
    "- **Web2Py:** A scalable full-stack framework that follows the Model-View-Controller (MVC) design6.\n",
    "- **Falcon:** A micro-framework designed for building robust and fast app backends and microservices4.\n",
    "- **AIOHTTP:** An asynchronous framework that heavily depends on Python 3.5+ features, such as async & await5."
   ]
  },
  {
   "cell_type": "markdown",
   "id": "0cf96976",
   "metadata": {},
   "source": [
    "# 6. What is the use of getattr(), setattr(), and delattr() functions in Python?"
   ]
  },
  {
   "cell_type": "markdown",
   "id": "9c3aa707",
   "metadata": {},
   "source": [
    "- The getattr(), setattr(), and delattr() functions in Python are used to get, set, and delete attributes on an object, respectively. These functions are often used to work with dynamic attributes, where the name of the attribute is not known until runtime. Here's an example of how to use these functions:"
   ]
  },
  {
   "cell_type": "code",
   "execution_count": 1,
   "id": "21110feb",
   "metadata": {},
   "outputs": [],
   "source": [
    "class MyClass:\n",
    "    pass\n",
    "obj = MyClass()\n",
    "setattr(obj, 'attr1', 123) # set the 'attr1' attribute to 123\n",
    "value = getattr(obj, 'attr1') # get the value of the 'attr1' attribute\n",
    "delattr(obj, 'attr1') # delete the 'attr1' attribute"
   ]
  },
  {
   "cell_type": "markdown",
   "id": "06f62df1",
   "metadata": {},
   "source": [
    "- In this example, the setattr() function sets the value of the 'attr1' attribute on the MyClass object,\n",
    "the getattr() function gets the value of the 'attr1' attribute, and the delattr() function deletes the\n",
    "'attr1' attribute."
   ]
  },
  {
   "cell_type": "markdown",
   "id": "61e4afd2",
   "metadata": {},
   "source": [
    "# 7. What is a property decorator in Python?"
   ]
  },
  {
   "cell_type": "markdown",
   "id": "d2279cfe",
   "metadata": {},
   "source": [
    "- In Python, a property decorator is a built-in decorator that allows you to define properties on a class. Properties are special attributes that have getter, setter, and deleter methods associated with them, providing control over how the attribute is accessed, modified, and deleted.\n",
    "\n",
    "- The @property decorator is used to define a getter method for a property. This method is called whenever the property is accessed. Additionally, you can define setter and deleter methods using the @<property_name>.setter and @<property_name>.deleter decorators, respectively.\n",
    "\n",
    "- Here's an example to illustrate the usage of property decorators:"
   ]
  },
  {
   "cell_type": "code",
   "execution_count": 18,
   "id": "ea4b80bb",
   "metadata": {},
   "outputs": [
    {
     "name": "stdout",
     "output_type": "stream",
     "text": [
      "5\n",
      "10\n",
      "Radius must be positive\n"
     ]
    }
   ],
   "source": [
    "class Circle:\n",
    "    def __init__(self, radius):\n",
    "        self._radius = radius\n",
    "\n",
    "    @property\n",
    "    def radius(self):\n",
    "        return self._radius\n",
    "\n",
    "    @radius.setter\n",
    "    def radius(self, value):\n",
    "        if value <= 0:\n",
    "            raise ValueError(\"Radius must be positive\")\n",
    "        self._radius = value\n",
    "\n",
    "    @radius.deleter\n",
    "    def radius(self):\n",
    "        del self._radius\n",
    "\n",
    "# Creating an instance of Circle\n",
    "c = Circle(5)\n",
    "\n",
    "# Accessing the radius property\n",
    "print(c.radius)  # Output: 5\n",
    "\n",
    "# Modifying the radius property\n",
    "c.radius = 10\n",
    "print(c.radius)  # Output: 10\n",
    "\n",
    "# Attempting to set a negative radius\n",
    "try:\n",
    "    c.radius = -5\n",
    "except ValueError as e:\n",
    "    print(e)  # Output: Radius must be positive\n",
    "\n",
    "# Deleting the radius property\n",
    "del c.radius\n",
    "# Accessing the radius property after deletion will raise an AttributeError"
   ]
  },
  {
   "cell_type": "markdown",
   "id": "259d1094",
   "metadata": {},
   "source": [
    "- in the above example, @property is used to define the radius property, which allows access to the _radius attribute. The @radius.setter decorator defines a setter method for the radius property, which enables modification of the _radius attribute with validation. Similarly, the @radius.deleter decorator defines a deleter method for the radius property, allowing deletion of the _radius attribute.\n",
    "\n",
    "In Python, property decorators (especially in Python 3) are commonly used to implement getters, setters, and deleters for class attributes, providing a controlled interface for accessing and modifying object properties. Some common use cases include:\n",
    "\n",
    "- **Data Validation:** You can use property decorators to enforce certain constraints or perform validation checks before setting the value of an attribute. This ensures that the data remains consistent and valid throughout the lifetime of the object.\n",
    "\n",
    "- **Encapsulation:** Property decorators allow you to encapsulate the implementation details of attribute access, modification, and deletion. This helps in hiding the internal representation of an object and provides a clean interface for interacting with it.\n",
    "\n",
    "- **Computed Properties**: You can use property decorators to define computed properties, where the value of a property is dynamically calculated based on other attributes or external factors. This allows for lazy evaluation of properties and can improve performance by avoiding unnecessary computations.\n",
    "\n",
    "- **Backward Compatibility:** Property decorators can be used to maintain backward compatibility when changing the internal representation of an object. By keeping the interface consistent while updating the implementation, you can minimize the impact on existing code that relies on the class interface.\n",
    "\n",
    "- **Property Dependency:** Property decorators can be used to define dependencies between properties, where changing the value of one property automatically triggers updates to other related properties. This helps in maintaining consistency and coherence within the object.\n",
    "\n",
    "Overall, property decorators are a powerful feature in Python that promotes encapsulation, modularity, and maintainability in object-oriented programming, making it easier to manage and manipulate object properties effectively."
   ]
  },
  {
   "cell_type": "markdown",
   "id": "c65b16c0",
   "metadata": {},
   "source": [
    "## Encapsulation \n",
    "- Encapsulation is one of the fundamental concepts in object-oriented programming (OOP) that refers to the bundling of data (attributes) and methods (functions) that operate on that data into a single unit, called a class. It allows you to restrict access to the inner workings of an object and only expose the necessary functionality or interface to interact with it.\n",
    "\n",
    "In encapsulation:\n",
    "\n",
    "- **Data Hiding:** The internal state of an object (its data) is hidden from the outside world, and access to it is restricted. This is typically achieved by making attributes private or protected, which means they can only be accessed or modified from within the class itself.\n",
    "\n",
    "- **Access Control:** Encapsulation allows you to control how the data is accessed and manipulated. By defining methods (such as getters, setters, and other utility methods) within the class, you can provide controlled access to the object's attributes while enforcing constraints or performing validation checks.\n",
    "\n",
    "- **Modularity:** Encapsulation promotes modularity by grouping related data and behavior together in a single unit (the class). This makes it easier to understand and maintain the codebase, as each class encapsulates a distinct set of responsibilities or functionalities.\n",
    "\n",
    "- **Information Hiding:** Encapsulation enables you to hide the implementation details of an object and only expose a public interface to the outside world. This allows you to change the internal implementation of a class without affecting the code that depends on it, thus enhancing code maintainability and flexibility.\n",
    "\n",
    "Encapsulation is a key principle of OOP and is essential for building robust, scalable, and maintainable software systems. It helps in reducing complexity, increasing reusability, and improving code organization by promoting loose coupling and high cohesion between different components of a system."
   ]
  },
  {
   "cell_type": "markdown",
   "id": "fd468e53",
   "metadata": {},
   "source": [
    "# 8. Call methods in python\n",
    "In Python, the call method is a special method that allows an object to be \"callable\", meaning you can use the object's name followed by parentheses as if it were a function. This is achieved by implementing the _ _call_ _ method within the class definition.\n",
    "\n",
    "- Here's a basic example to demonstrate the use of the _ _call_ _ method:"
   ]
  },
  {
   "cell_type": "code",
   "execution_count": 4,
   "id": "692dcf80",
   "metadata": {},
   "outputs": [
    {
     "name": "stdout",
     "output_type": "stream",
     "text": [
      "7\n"
     ]
    }
   ],
   "source": [
    "class MyCallable:\n",
    "    def __init__(self):\n",
    "        pass\n",
    "\n",
    "    def __call__(self, x, y):\n",
    "        return x + y\n",
    "\n",
    "# Creating an instance of the class\n",
    "objectInstance = MyCallable()\n",
    "\n",
    "# Now, my_func can be called like a function\n",
    "result = objectInstance(3, 4)\n",
    "print(result)  # Output will be 7"
   ]
  },
  {
   "cell_type": "markdown",
   "id": "40971c75",
   "metadata": {},
   "source": [
    "- In this example, MyCallable defines the **_ _call_ _** method, which takes two arguments x and y and returns their sum. After creating an instance my_func of the class MyCallable, you can use my_func as if it were a function and pass it arguments 3 and 4. When you call my_func(3, 4), it invokes the _ _call__ method internally, and the result is printed.\n",
    "\n",
    "Similar to the __call__ method, there are several other special methods in Python that define behavior for specific operations or operations that can be performed on objects. Some commonly used similar types of methods include:\n",
    "\n",
    "**_ _init_ _**(self[, ...]): Initializes an instance of the class. This method is called when you create a new object of the class.\n",
    "\n",
    "**_ _str_ _(self):** Returns a string representation of the object. This method is called when you use the str() function or print() function on an object.\n",
    "\n",
    "**_ _repr_ _(self):** Returns a string representation of the object that is unambiguous and ideally used for debugging. It is called when you use the repr() function or the interpreter displays the object.\n",
    "\n",
    "**_ _len_ _(self):** Returns the length of the object. This method is called when you use the len() function on an object.\n",
    "\n",
    "**_ _getitem**_ _(self, key): Allows objects to be indexed like sequences or mappings. This method is called to retrieve the value associated with the specified key.\n",
    "\n",
    "**_ _setitem_ _(self, key, value):** Allows assignment of values to items, like sequences or mappings. This method is called when you assign a value to a specific key.\n",
    "\n",
    "**_ _delitem_ _(self, key):** Allows deletion of items, like sequences or mappings. This method is called when you use the del statement on an item.\n",
    "\n",
    "**_ _iter_ _(self):** Returns an iterator object. This method is called when you use the iter() function or a loop (for loop) on an object.\n",
    "\n",
    "**_ _next_ _(self):** Returns the next item from the iterator. This method is called when you use the next() function on an iterator object.\n",
    "\n",
    "**_ _contains_ _(self, item):** Determines whether the object contains a specific item. This method is called when you use the in keyword to check for membership.\n",
    "\n",
    "These are just a few examples of special methods in Python. They allow classes to define custom behavior for operations like object creation, string representation, length determination, indexing, iteration, and more. By implementing these methods in your classes, you can make your objects behave in a manner similar to built-in types."
   ]
  },
  {
   "cell_type": "code",
   "execution_count": 5,
   "id": "6d4f44d5",
   "metadata": {},
   "outputs": [
    {
     "name": "stdout",
     "output_type": "stream",
     "text": [
      "CustomContainer(1, 2, 3, 4, 5)\n",
      "5\n",
      "3\n",
      "CustomContainer(1, 2, 10, 4, 5)\n",
      "CustomContainer(1, 2, 4, 5)\n",
      "1\n",
      "2\n",
      "4\n",
      "5\n",
      "False\n",
      "True\n"
     ]
    }
   ],
   "source": [
    "class CustomContainer:\n",
    "    def __init__(self, *args):\n",
    "        self.data = list(args)\n",
    "\n",
    "    def __str__(self):\n",
    "        return f'CustomContainer({\", \".join(map(str, self.data))})'\n",
    "\n",
    "    def __repr__(self):\n",
    "        return f'CustomContainer({repr(self.data)})'\n",
    "\n",
    "    def __len__(self):\n",
    "        return len(self.data)\n",
    "\n",
    "    def __getitem__(self, index):\n",
    "        return self.data[index]\n",
    "\n",
    "    def __setitem__(self, index, value):\n",
    "        self.data[index] = value\n",
    "\n",
    "    def __delitem__(self, index):\n",
    "        del self.data[index]\n",
    "\n",
    "    def __iter__(self):\n",
    "        return iter(self.data)\n",
    "\n",
    "    def __contains__(self, item):\n",
    "        return item in self.data\n",
    "\n",
    "\n",
    "# Testing the CustomContainer class\n",
    "container = CustomContainer(1, 2, 3, 4, 5)\n",
    "print(container)  # Output: CustomContainer(1, 2, 3, 4, 5)\n",
    "print(len(container))  # Output: 5\n",
    "print(container[2])  # Output: 3\n",
    "\n",
    "container[2] = 10\n",
    "print(container)  # Output: CustomContainer(1, 2, 10, 4, 5)\n",
    "\n",
    "del container[2]\n",
    "print(container)  # Output: CustomContainer(1, 2, 4, 5)\n",
    "\n",
    "for item in container:\n",
    "    print(item)  # Output: 1, 2, 4, 5\n",
    "\n",
    "print(3 in container)  # Output: False\n",
    "print(4 in container)  # Output: True\n"
   ]
  },
  {
   "cell_type": "markdown",
   "id": "6cb0a8c1",
   "metadata": {},
   "source": [
    "# 9. Explain generators vs iterators\n",
    "\n",
    "An iterator has the whole sequence in memory before it returns the first result. An iterator uses the \"return\". A generator calculates each result at the moment it is called for. The next result is unknown. A generator uses \"yield\".\n",
    "So, in short:\n",
    "- You'd use a generator when processing a stream, or when memory consumption is important.\n",
    "- Generators are iterators, but iterators are not generators.\n",
    "- In this example, we will create a simple generator that will yield three integers. Then we will print these integers by using Python for loop.\n",
    "- More on this https://www.geeksforgeeks.org/generators-in-python/"
   ]
  },
  {
   "cell_type": "code",
   "execution_count": 10,
   "id": "b5aa5c49",
   "metadata": {},
   "outputs": [
    {
     "name": "stdout",
     "output_type": "stream",
     "text": [
      "1\n",
      "2\n",
      "3\n"
     ]
    }
   ],
   "source": [
    "# A generator function that yields 1 for first time, \n",
    "# 2 second time and 3 third time \n",
    "def simpleGeneratorFun(): \n",
    "    yield 1\n",
    "    yield 2\n",
    "    yield 3\n",
    "\n",
    "# Driver code to check above generator function \n",
    "for value in simpleGeneratorFun(): \n",
    "    print(value)\n"
   ]
  },
  {
   "cell_type": "code",
   "execution_count": 7,
   "id": "77d6ac0b",
   "metadata": {},
   "outputs": [
    {
     "name": "stdout",
     "output_type": "stream",
     "text": [
      "Hello\n",
      "1\n"
     ]
    }
   ],
   "source": [
    "def generrator2()->str:\n",
    "    yield \"Hello\"\n",
    "def generrator()-> int:\n",
    "    yield from generrator2()\n",
    "    yield from [1,2,3,4]\n",
    "    \n",
    "gen = generrator()\n",
    "print(next(gen))\n",
    "print(next(gen))"
   ]
  },
  {
   "cell_type": "markdown",
   "id": "e5baf0e7",
   "metadata": {},
   "source": [
    "# 10. What are *args, **kwargs?\n",
    "\n",
    "In cases when we don't know how many arguments will be passed to a function, like when we want to pass a list or a tuple of values, we use *args.\n",
    "\n",
    "**kwargs takes keyword arguments when we don't know how many there will be:\n",
    "\n",
    "The words args and kwargs are a convention, and we can use anything in their place.\n",
    "\n",
    "The recommendation is to rely on **kwargs only for methods that have a reduced scope. Private methods (and by private in a context of Python. Methods starting by _) which are used in few places in the class are good candidates, for example. On the other hand, methods that are used by dozens of classes all over the code base are very bad candidates."
   ]
  },
  {
   "cell_type": "markdown",
   "id": "07807b93",
   "metadata": {},
   "source": [
    "# 11. What is the lambda function?\n",
    "\n",
    "A lambda function is an anonymous function that’s used when an anonymous function is required for a short period of time. This function can only have one statement, but it can have any number of parameters. Example: \n",
    "```python\n",
    "a = lambda x,y : x+y print(a(5,6))\n",
    "```"
   ]
  },
  {
   "cell_type": "markdown",
   "id": "c4211227",
   "metadata": {},
   "source": [
    "# 12. Explain mutable vs immutable types?\n",
    "\n",
    "An immutable type cannot be changed. Examples are integers, floats, strings, tuples. A mutable type can change. Examples are lists, dictionaries, sets, classes.\n",
    "\n",
    "For the follow-up, you want the candidate to explain how immutable types point to actual values, whereas immutable types are pointers to locations in memory so are subject to change."
   ]
  },
  {
   "cell_type": "markdown",
   "id": "bcc89cc6",
   "metadata": {},
   "source": [
    "# 14. Data Classes in Python\n",
    "One new and exciting feature coming in Python 3.7 is the data class. A data class is a class typically containing mainly data, although there aren’t really any restrictions. It is created using the new @dataclass decorator, as follows:\n",
    "\n",
    "A data class comes with basic functionality already implemented. For instance, you can instantiate, print, and compare data class instances straight out of the box:\n",
    "- More on this :https://realpython.com/python-data-classes/\n",
    "- **Immutable Data Classes** One of the defining features of the namedtuple you saw earlier is that it is immutable. That is, the value of its fields may never change. For many types of data classes, this is a great idea! To make a data class immutable, set frozen=True when you create it. For example, the following is an immutable version of the Position class you saw earlier:\n",
    "```python\n",
    "@dataclass(frozen=True)\n",
    "```"
   ]
  },
  {
   "cell_type": "code",
   "execution_count": 5,
   "id": "67b21cea",
   "metadata": {},
   "outputs": [],
   "source": [
    "from dataclasses import dataclass\n",
    "\n",
    "@dataclass\n",
    "class DataClassCard:\n",
    "    rank: str\n",
    "    suit: str\n",
    "        \n",
    "queen_of_hearts = DataClassCard('Q', 'Hearts')"
   ]
  },
  {
   "cell_type": "markdown",
   "id": "b39f074c",
   "metadata": {},
   "source": [
    "# 15. Abstract Syntax Trees\n",
    "In Python, Abstract Syntax Trees (ASTs) represent the syntactic structure of the code in a tree-like data structure. When you write Python code, the interpreter parses it and converts it into an AST before executing it. The AST captures the hierarchical relationship between different elements of the code, such as expressions, statements, and control flow constructs.\n",
    "\n",
    "Python provides the ast module in its standard library, which allows you to work with ASTs programmatically. You can use this module to parse Python code into an AST, manipulate the AST, and generate Python code from the modified AST.\n",
    "\n",
    "Here's a simple example demonstrating how you can use the ast module to parse Python code into an AST:"
   ]
  },
  {
   "cell_type": "code",
   "execution_count": 1,
   "id": "569a03c0",
   "metadata": {},
   "outputs": [
    {
     "name": "stdout",
     "output_type": "stream",
     "text": [
      "<ast.Module object at 0x00000176705FABC0>\n"
     ]
    }
   ],
   "source": [
    "import ast\n",
    "\n",
    "# Python code to be parsed\n",
    "code = \"\"\"\n",
    "def greet(name):\n",
    "    print(\"Hello, \" + name + \"!\")\n",
    "\"\"\"\n",
    "\n",
    "# Parse the code into an AST\n",
    "parsed_ast = ast.parse(code)\n",
    "\n",
    "# Now you can work with the AST\n",
    "print(parsed_ast)\n"
   ]
  },
  {
   "cell_type": "markdown",
   "id": "72806ef6",
   "metadata": {},
   "source": [
    "When you run this code, it will print the AST representation of the provided Python code. The AST is represented as a nested structure of Python objects, where each object corresponds to a node in the tree representing different elements of the code, such as functions, expressions, and statements.\n",
    "\n",
    "You can explore the AST further by traversing it using the ast module's functions and classes. This can be useful for tasks like code analysis, code generation, and transformation.\n",
    "\n",
    "we can use this for JSON parsing alos if json module will not work "
   ]
  },
  {
   "cell_type": "code",
   "execution_count": 12,
   "id": "5f315cf2",
   "metadata": {},
   "outputs": [],
   "source": [
    "import ast\n",
    "import json\n",
    "data = \"\"\"{'path': [\"20180410\", \"US9940912B1\", \"clvt-chub-prod/published/patents/cXML/lh/PDF/US_Searchable_PDF_20220111.zip\", \"US/US9940912B1.pdf\", \"urn:asset:7:067093e3-c651-4003-9923-a65e8a4e77f2\", \"pdf\", 40996040], \"master_pguid\": \"7aeaed66-4b8d-965b-90ac-8f229dc2cca6\", \"pnd_guid\": \"US9940912B1\", \"conf_type\": 2, \"Error\": \"list index out of range\"}\"\"\""
   ]
  },
  {
   "cell_type": "code",
   "execution_count": 14,
   "id": "42a245e4",
   "metadata": {},
   "outputs": [
    {
     "data": {
      "text/plain": [
       "{'path': ['20180410',\n",
       "  'US9940912B1',\n",
       "  'clvt-chub-prod/published/patents/cXML/lh/PDF/US_Searchable_PDF_20220111.zip',\n",
       "  'US/US9940912B1.pdf',\n",
       "  'urn:asset:7:067093e3-c651-4003-9923-a65e8a4e77f2',\n",
       "  'pdf',\n",
       "  40996040],\n",
       " 'master_pguid': '7aeaed66-4b8d-965b-90ac-8f229dc2cca6',\n",
       " 'pnd_guid': 'US9940912B1',\n",
       " 'conf_type': 2,\n",
       " 'Error': 'list index out of range'}"
      ]
     },
     "execution_count": 14,
     "metadata": {},
     "output_type": "execute_result"
    }
   ],
   "source": [
    "# json.loads(data) // this will give error as it will not evalate\n",
    "ast.literal_eval(data)"
   ]
  },
  {
   "cell_type": "code",
   "execution_count": null,
   "id": "c1befa28",
   "metadata": {},
   "outputs": [],
   "source": []
  },
  {
   "cell_type": "code",
   "execution_count": null,
   "id": "82aa4dae",
   "metadata": {},
   "outputs": [],
   "source": []
  },
  {
   "cell_type": "code",
   "execution_count": null,
   "id": "4e21ed0b",
   "metadata": {},
   "outputs": [],
   "source": []
  }
 ],
 "metadata": {
  "kernelspec": {
   "display_name": "Python 3 (ipykernel)",
   "language": "python",
   "name": "python3"
  },
  "language_info": {
   "codemirror_mode": {
    "name": "ipython",
    "version": 3
   },
   "file_extension": ".py",
   "mimetype": "text/x-python",
   "name": "python",
   "nbconvert_exporter": "python",
   "pygments_lexer": "ipython3",
   "version": "3.11.3"
  }
 },
 "nbformat": 4,
 "nbformat_minor": 5
}
