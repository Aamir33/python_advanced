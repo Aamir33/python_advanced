{
 "cells": [
  {
   "cell_type": "code",
   "execution_count": 1,
   "id": "68e08ecb",
   "metadata": {},
   "outputs": [],
   "source": [
    "%load_ext Cython"
   ]
  },
  {
   "cell_type": "code",
   "execution_count": 40,
   "id": "3c8241fa",
   "metadata": {},
   "outputs": [],
   "source": [
    "#https://cython.readthedocs.io/en/latest/src/userguide/language_basics.html"
   ]
  },
  {
   "cell_type": "code",
   "execution_count": 3,
   "id": "dc6ec1b2",
   "metadata": {},
   "outputs": [
    {
     "name": "stdout",
     "output_type": "stream",
     "text": [
      "Content of stdout:\n",
      "_cython_magic_c36aec6bff2b2b9e26f002f4e538ced647bab8a5.c\r\n",
      "   Creating library C:\\Users\\U6054350\\.ipython\\cython\\Users\\U6054350\\.ipython\\cython\\_cython_magic_c36aec6bff2b2b9e26f002f4e538ced647bab8a5.cp311-win_amd64.lib and object C:\\Users\\U6054350\\.ipython\\cython\\Users\\U6054350\\.ipython\\cython\\_cython_magic_c36aec6bff2b2b9e26f002f4e538ced647bab8a5.cp311-win_amd64.exp\r\n",
      "Generating code\r\n",
      "Finished generating code"
     ]
    }
   ],
   "source": [
    "%%cython \n",
    "## %%cython -a   if u want ot manully check the stuff\n",
    "def fib(int n):\n",
    "    cdef int a, b, i\n",
    "    a, b = 0, 1\n",
    "    for i in range(n):\n",
    "        a, b = a + b, a\n",
    "    return a"
   ]
  },
  {
   "cell_type": "code",
   "execution_count": 4,
   "id": "c9c2b4ac",
   "metadata": {},
   "outputs": [
    {
     "data": {
      "text/plain": [
       "55"
      ]
     },
     "execution_count": 4,
     "metadata": {},
     "output_type": "execute_result"
    }
   ],
   "source": [
    "fib(10)"
   ]
  },
  {
   "cell_type": "code",
   "execution_count": 30,
   "id": "d01e8032",
   "metadata": {},
   "outputs": [
    {
     "name": "stdout",
     "output_type": "stream",
     "text": [
      "Content of stdout:\n",
      "_cython_magic_9bb26a3d762c82a474dd257022d639490416e8cf.c\r\n",
      "   Creating library C:\\Users\\U6054350\\.ipython\\cython\\Users\\U6054350\\.ipython\\cython\\_cython_magic_9bb26a3d762c82a474dd257022d639490416e8cf.cp311-win_amd64.lib and object C:\\Users\\U6054350\\.ipython\\cython\\Users\\U6054350\\.ipython\\cython\\_cython_magic_9bb26a3d762c82a474dd257022d639490416e8cf.cp311-win_amd64.exp\r\n",
      "Generating code\r\n",
      "Finished generating code"
     ]
    }
   ],
   "source": [
    "%%cython \n",
    "cpdef unsigned long long sum_of_numbers_cython(long long n):\n",
    "    cdef long long sum_of_numbers = 0\n",
    "    cdef long long i\n",
    "    for i in range(1, n + 1):\n",
    "        sum_of_numbers += i\n",
    "    return sum_of_numbers"
   ]
  },
  {
   "cell_type": "code",
   "execution_count": 31,
   "id": "af65b95e",
   "metadata": {},
   "outputs": [
    {
     "name": "stdout",
     "output_type": "stream",
     "text": [
      "Execuation Time =8.850228786468506 \n",
      " result = 13106511857580896768\n"
     ]
    }
   ],
   "source": [
    "import time\n",
    "start_time = time.time()\n",
    "result = sum_of_numbers_cython(10000000000)\n",
    "time.sleep(1)\n",
    "execution_time = time.time() - start_time\n",
    "print(f\"Execuation Time ={execution_time} \\n result = {result}\")"
   ]
  },
  {
   "cell_type": "code",
   "execution_count": 16,
   "id": "26a03830",
   "metadata": {},
   "outputs": [
    {
     "name": "stdout",
     "output_type": "stream",
     "text": [
      "Content of stdout:\n",
      "_cython_magic_79c0bdfbbea765cbe0d5794b9fc47668d233a637.c\r\n",
      "C:\\ProgramData\\anaconda3\\Lib\\site-packages\\numpy\\core\\include\\numpy\\npy_1_7_deprecated_api.h(14) : Warning Msg: Using deprecated NumPy API, disable it with #define NPY_NO_DEPRECATED_API NPY_1_7_API_VERSION\r\n",
      "   Creating library C:\\Users\\U6054350\\.ipython\\cython\\Users\\U6054350\\.ipython\\cython\\_cython_magic_79c0bdfbbea765cbe0d5794b9fc47668d233a637.cp311-win_amd64.lib and object C:\\Users\\U6054350\\.ipython\\cython\\Users\\U6054350\\.ipython\\cython\\_cython_magic_79c0bdfbbea765cbe0d5794b9fc47668d233a637.cp311-win_amd64.exp\r\n",
      "Generating code\r\n",
      "Finished generating code"
     ]
    }
   ],
   "source": [
    "%%cython \n",
    "import numpy as np\n",
    "cimport numpy as np\n",
    "\n",
    "def array_operation(np.ndarray[np.double_t, ndim=1] arr):\n",
    "    cdef int i\n",
    "    for i in range(arr.shape[0]):\n",
    "        arr[i] *= 2.0"
   ]
  },
  {
   "cell_type": "code",
   "execution_count": 27,
   "id": "629f5235",
   "metadata": {},
   "outputs": [
    {
     "name": "stdout",
     "output_type": "stream",
     "text": [
      "Content of stdout:\n",
      "_cython_magic_be31b965d976d9bb3993f0f774bd0f7acd5e7785.c\r\n",
      "   Creating library C:\\Users\\U6054350\\.ipython\\cython\\Users\\U6054350\\.ipython\\cython\\_cython_magic_be31b965d976d9bb3993f0f774bd0f7acd5e7785.cp311-win_amd64.lib and object C:\\Users\\U6054350\\.ipython\\cython\\Users\\U6054350\\.ipython\\cython\\_cython_magic_be31b965d976d9bb3993f0f774bd0f7acd5e7785.cp311-win_amd64.exp\r\n",
      "Generating code\r\n",
      "Finished generating code"
     ]
    }
   ],
   "source": [
    "%%cython \n",
    "cpdef str concatenate_strings(str s1, str s2):\n",
    "    return s1 + s2"
   ]
  },
  {
   "cell_type": "code",
   "execution_count": 28,
   "id": "c1a5636b",
   "metadata": {},
   "outputs": [
    {
     "name": "stdout",
     "output_type": "stream",
     "text": [
      "Aamir\n"
     ]
    },
    {
     "data": {
      "text/plain": [
       "'Aamir Bhat'"
      ]
     },
     "execution_count": 28,
     "metadata": {},
     "output_type": "execute_result"
    }
   ],
   "source": [
    "concatenate_strings(\"Aamir\", \" Bhat\")"
   ]
  },
  {
   "cell_type": "code",
   "execution_count": 42,
   "id": "6fbc19e4",
   "metadata": {},
   "outputs": [],
   "source": [
    "%%cython\n",
    "ctypedef unsigned long ULong\n",
    "ctypedef int* IntPtr"
   ]
  },
  {
   "cell_type": "code",
   "execution_count": 37,
   "id": "ebc3ff66",
   "metadata": {},
   "outputs": [],
   "source": [
    "import cython\n",
    "IntPtr = cython.typedef(cython.p_int)"
   ]
  },
  {
   "cell_type": "code",
   "execution_count": 43,
   "id": "c351bb91",
   "metadata": {},
   "outputs": [
    {
     "data": {
      "text/plain": [
       "<class 'Cython.Shadow.pointer.<locals>.PointerInstance'>"
      ]
     },
     "execution_count": 43,
     "metadata": {},
     "output_type": "execute_result"
    }
   ],
   "source": [
    "IntPtr"
   ]
  },
  {
   "cell_type": "code",
   "execution_count": null,
   "id": "ccd3f8b8",
   "metadata": {},
   "outputs": [],
   "source": []
  },
  {
   "cell_type": "code",
   "execution_count": null,
   "id": "a91c81c1",
   "metadata": {},
   "outputs": [],
   "source": []
  },
  {
   "cell_type": "code",
   "execution_count": null,
   "id": "7503c8e0",
   "metadata": {},
   "outputs": [],
   "source": []
  },
  {
   "cell_type": "code",
   "execution_count": null,
   "id": "269068f0",
   "metadata": {},
   "outputs": [],
   "source": []
  },
  {
   "cell_type": "code",
   "execution_count": null,
   "id": "d64ad671",
   "metadata": {},
   "outputs": [],
   "source": []
  },
  {
   "cell_type": "code",
   "execution_count": null,
   "id": "2df82d98",
   "metadata": {},
   "outputs": [],
   "source": []
  },
  {
   "cell_type": "code",
   "execution_count": null,
   "id": "e427e5ce",
   "metadata": {},
   "outputs": [],
   "source": []
  }
 ],
 "metadata": {
  "kernelspec": {
   "display_name": "Python 3 (ipykernel)",
   "language": "python",
   "name": "python3"
  },
  "language_info": {
   "codemirror_mode": {
    "name": "ipython",
    "version": 3
   },
   "file_extension": ".py",
   "mimetype": "text/x-python",
   "name": "python",
   "nbconvert_exporter": "python",
   "pygments_lexer": "ipython3",
   "version": "3.11.3"
  }
 },
 "nbformat": 4,
 "nbformat_minor": 5
}
