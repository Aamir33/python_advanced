{
 "cells": [
  {
   "cell_type": "code",
   "execution_count": 2,
   "id": "b3beaad4",
   "metadata": {},
   "outputs": [],
   "source": [
    "import cython"
   ]
  },
  {
   "cell_type": "code",
   "execution_count": 3,
   "id": "a7e9f520",
   "metadata": {},
   "outputs": [],
   "source": [
    "def primes(nb_primes: cython.int):\n",
    "    i: cython.int\n",
    "    p: cython.int[1000]\n",
    "\n",
    "    if nb_primes > 1000:\n",
    "        nb_primes = 1000\n",
    "\n",
    "    if not cython.compiled:  # Only if regular Python is running\n",
    "        p = [0] * 1000       # Make p work almost like a C array\n",
    "\n",
    "    len_p: cython.int = 0  # The current number of elements in p.\n",
    "    n: cython.int = 2\n",
    "    while len_p < nb_primes:\n",
    "        # Is n prime?\n",
    "        for i in p[:len_p]:\n",
    "            if n % i == 0:\n",
    "                break\n",
    "\n",
    "        # If no break occurred in the loop, we have a prime.\n",
    "        else:\n",
    "            p[len_p] = n\n",
    "            len_p += 1\n",
    "        n += 1\n",
    "\n",
    "    # Let's copy the result into a Python list:\n",
    "    result_as_list = [prime for prime in p[:len_p]]\n",
    "    return result_as_list"
   ]
  },
  {
   "cell_type": "code",
   "execution_count": 4,
   "id": "1a4be398",
   "metadata": {},
   "outputs": [
    {
     "data": {
      "text/plain": [
       "[2, 3, 5, 7, 11, 13, 17, 19, 23, 29]"
      ]
     },
     "execution_count": 4,
     "metadata": {},
     "output_type": "execute_result"
    }
   ],
   "source": [
    "primes(10)"
   ]
  },
  {
   "cell_type": "code",
   "execution_count": null,
   "id": "761db77d",
   "metadata": {},
   "outputs": [],
   "source": []
  },
  {
   "cell_type": "code",
   "execution_count": null,
   "id": "f882b4ea",
   "metadata": {},
   "outputs": [],
   "source": []
  },
  {
   "cell_type": "code",
   "execution_count": 5,
   "id": "65786fc1",
   "metadata": {},
   "outputs": [],
   "source": [
    "def countofnummbers_cpp(n_value: cython.int):\n",
    "    sum_of_numbers:cython.int\n",
    "    ele:cython.int\n",
    "    for ele in range(1, n_value+1):\n",
    "        sum_of_numbers+=ele\n",
    "    return sum_of_numbers"
   ]
  },
  {
   "cell_type": "code",
   "execution_count": null,
   "id": "2f845a36",
   "metadata": {},
   "outputs": [],
   "source": []
  },
  {
   "cell_type": "code",
   "execution_count": 6,
   "id": "121cd7ba",
   "metadata": {},
   "outputs": [
    {
     "ename": "UnboundLocalError",
     "evalue": "cannot access local variable 'sum_of_numbers' where it is not associated with a value",
     "output_type": "error",
     "traceback": [
      "\u001b[1;31m---------------------------------------------------------------------------\u001b[0m",
      "\u001b[1;31mUnboundLocalError\u001b[0m                         Traceback (most recent call last)",
      "Cell \u001b[1;32mIn[6], line 4\u001b[0m\n\u001b[0;32m      2\u001b[0m start_time \u001b[38;5;241m=\u001b[39m time\u001b[38;5;241m.\u001b[39mtime()\n\u001b[0;32m      3\u001b[0m n \u001b[38;5;241m=\u001b[39m \u001b[38;5;241m1000000000\u001b[39m\n\u001b[1;32m----> 4\u001b[0m result \u001b[38;5;241m=\u001b[39m countofnummbers_cpp(n)\n\u001b[0;32m      5\u001b[0m execution_time \u001b[38;5;241m=\u001b[39m time\u001b[38;5;241m.\u001b[39mtime() \u001b[38;5;241m-\u001b[39m start_time\n\u001b[0;32m      6\u001b[0m \u001b[38;5;28mprint\u001b[39m(\u001b[38;5;124mf\u001b[39m\u001b[38;5;124m\"\u001b[39m\u001b[38;5;124mExecuation Time =\u001b[39m\u001b[38;5;132;01m{\u001b[39;00mexecution_time\u001b[38;5;132;01m}\u001b[39;00m\u001b[38;5;124m \u001b[39m\u001b[38;5;130;01m\\n\u001b[39;00m\u001b[38;5;124mResult = \u001b[39m\u001b[38;5;132;01m{\u001b[39;00mresult\u001b[38;5;132;01m}\u001b[39;00m\u001b[38;5;124m\"\u001b[39m)\n",
      "Cell \u001b[1;32mIn[5], line 5\u001b[0m, in \u001b[0;36mcountofnummbers_cpp\u001b[1;34m(n_value)\u001b[0m\n\u001b[0;32m      3\u001b[0m ele:cython\u001b[38;5;241m.\u001b[39mint\n\u001b[0;32m      4\u001b[0m \u001b[38;5;28;01mfor\u001b[39;00m ele \u001b[38;5;129;01min\u001b[39;00m \u001b[38;5;28mrange\u001b[39m(\u001b[38;5;241m1\u001b[39m, n_value\u001b[38;5;241m+\u001b[39m\u001b[38;5;241m1\u001b[39m):\n\u001b[1;32m----> 5\u001b[0m     sum_of_numbers\u001b[38;5;241m+\u001b[39m\u001b[38;5;241m=\u001b[39mele\n\u001b[0;32m      6\u001b[0m \u001b[38;5;28;01mreturn\u001b[39;00m sum_of_numbers\n",
      "\u001b[1;31mUnboundLocalError\u001b[0m: cannot access local variable 'sum_of_numbers' where it is not associated with a value"
     ]
    }
   ],
   "source": [
    "import time\n",
    "start_time = time.time()\n",
    "n = 1000000000\n",
    "result = countofnummbers_cpp(n)\n",
    "execution_time = time.time() - start_time\n",
    "print(f\"Execuation Time ={execution_time} \\nResult = {result}\")"
   ]
  },
  {
   "cell_type": "code",
   "execution_count": null,
   "id": "1b5cc4e2",
   "metadata": {},
   "outputs": [],
   "source": []
  },
  {
   "cell_type": "code",
   "execution_count": null,
   "id": "b73a32d7",
   "metadata": {},
   "outputs": [],
   "source": []
  }
 ],
 "metadata": {
  "kernelspec": {
   "display_name": "Python 3 (ipykernel)",
   "language": "python",
   "name": "python3"
  },
  "language_info": {
   "codemirror_mode": {
    "name": "ipython",
    "version": 3
   },
   "file_extension": ".py",
   "mimetype": "text/x-python",
   "name": "python",
   "nbconvert_exporter": "python",
   "pygments_lexer": "ipython3",
   "version": "3.11.3"
  }
 },
 "nbformat": 4,
 "nbformat_minor": 5
}
