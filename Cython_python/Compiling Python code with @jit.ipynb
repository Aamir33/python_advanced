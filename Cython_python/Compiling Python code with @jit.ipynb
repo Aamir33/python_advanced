{
 "cells": [
  {
   "cell_type": "markdown",
   "id": "68b02347",
   "metadata": {},
   "source": [
    "- https://numba.pydata.org/numba-doc/latest/user/jit.html"
   ]
  },
  {
   "cell_type": "code",
   "execution_count": 1,
   "id": "eb244296",
   "metadata": {},
   "outputs": [],
   "source": [
    "from numba import jit"
   ]
  },
  {
   "cell_type": "code",
   "execution_count": 17,
   "id": "d97a590b",
   "metadata": {},
   "outputs": [],
   "source": [
    "@jit(nopython=True)\n",
    "def sum_of_numbers_jit(n):\n",
    "    sum_of_numbers =0\n",
    "    for i in range(1, n + 1):\n",
    "        sum_of_numbers += i\n",
    "    return sum_of_numbers"
   ]
  },
  {
   "cell_type": "code",
   "execution_count": 18,
   "id": "e6842c0d",
   "metadata": {},
   "outputs": [],
   "source": [
    "def sum_of_numbers(n):\n",
    "    sum_of_numbers =0\n",
    "    for i in range(1, n + 1):\n",
    "        sum_of_numbers += i\n",
    "    return sum_of_numbers"
   ]
  },
  {
   "cell_type": "code",
   "execution_count": 19,
   "id": "a0ec2faa",
   "metadata": {},
   "outputs": [
    {
     "name": "stdout",
     "output_type": "stream",
     "text": [
      "Execuation Time =5.654895782470703 \n",
      " result = 5000000050000000\n"
     ]
    }
   ],
   "source": [
    "#Normmal Execution\n",
    "import time\n",
    "start_time = time.time()\n",
    "result = sum_of_numbers(100000000)\n",
    "time.sleep(1)\n",
    "execution_time = time.time() - start_time\n",
    "print(f\"Execuation Time ={execution_time} \\n result = {result}\")"
   ]
  },
  {
   "cell_type": "code",
   "execution_count": 20,
   "id": "efa6ca8a",
   "metadata": {},
   "outputs": [
    {
     "name": "stdout",
     "output_type": "stream",
     "text": [
      "Execuation Time =1.0523288249969482 \n",
      " result = 5000000050000000\n"
     ]
    }
   ],
   "source": [
    "# using JIT\n",
    "import time\n",
    "start_time = time.time()\n",
    "result = sum_of_numbers_jit(100000000)\n",
    "time.sleep(1)\n",
    "execution_time = time.time() - start_time\n",
    "print(f\"Execuation Time ={execution_time} \\n result = {result}\")"
   ]
  },
  {
   "cell_type": "code",
   "execution_count": null,
   "id": "131069be",
   "metadata": {},
   "outputs": [],
   "source": []
  },
  {
   "cell_type": "code",
   "execution_count": null,
   "id": "fa52086e",
   "metadata": {},
   "outputs": [],
   "source": []
  }
 ],
 "metadata": {
  "kernelspec": {
   "display_name": "Python 3 (ipykernel)",
   "language": "python",
   "name": "python3"
  },
  "language_info": {
   "codemirror_mode": {
    "name": "ipython",
    "version": 3
   },
   "file_extension": ".py",
   "mimetype": "text/x-python",
   "name": "python",
   "nbconvert_exporter": "python",
   "pygments_lexer": "ipython3",
   "version": "3.11.3"
  }
 },
 "nbformat": 4,
 "nbformat_minor": 5
}
