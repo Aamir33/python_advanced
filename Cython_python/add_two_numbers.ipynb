{
 "cells": [
  {
   "cell_type": "code",
   "execution_count": 1,
   "id": "146aa640",
   "metadata": {},
   "outputs": [],
   "source": [
    "%load_ext Cython\n",
    "def add(num1, num2):\n",
    "    return num1+num2"
   ]
  },
  {
   "cell_type": "code",
   "execution_count": 2,
   "id": "0dd3b54b",
   "metadata": {},
   "outputs": [
    {
     "data": {
      "text/plain": [
       "300.5"
      ]
     },
     "execution_count": 2,
     "metadata": {},
     "output_type": "execute_result"
    }
   ],
   "source": [
    "add(100.2, 200.3)"
   ]
  },
  {
   "cell_type": "code",
   "execution_count": 10,
   "id": "3e367aa0",
   "metadata": {},
   "outputs": [
    {
     "name": "stdout",
     "output_type": "stream",
     "text": [
      "Content of stdout:\n",
      "_cython_magic_afe981a6adfdf3f378c0a61c7d99c75bbf42b435.c\r\n",
      "   Creating library C:\\Users\\U6054350\\.ipython\\cython\\Users\\U6054350\\.ipython\\cython\\_cython_magic_afe981a6adfdf3f378c0a61c7d99c75bbf42b435.cp311-win_amd64.lib and object C:\\Users\\U6054350\\.ipython\\cython\\Users\\U6054350\\.ipython\\cython\\_cython_magic_afe981a6adfdf3f378c0a61c7d99c75bbf42b435.cp311-win_amd64.exp\r\n",
      "Generating code\r\n",
      "Finished generating code"
     ]
    }
   ],
   "source": [
    "%%cython \n",
    "cpdef double add(float num1, float num2):\n",
    "    return num1+num2"
   ]
  },
  {
   "cell_type": "code",
   "execution_count": 11,
   "id": "d35e8a05",
   "metadata": {},
   "outputs": [
    {
     "data": {
      "text/plain": [
       "300.5"
      ]
     },
     "execution_count": 11,
     "metadata": {},
     "output_type": "execute_result"
    }
   ],
   "source": [
    "add(100.2, 200.3)"
   ]
  },
  {
   "cell_type": "code",
   "execution_count": 12,
   "id": "a84e92ea",
   "metadata": {},
   "outputs": [],
   "source": [
    "import math"
   ]
  },
  {
   "cell_type": "code",
   "execution_count": 13,
   "id": "e7dc2ece",
   "metadata": {},
   "outputs": [],
   "source": [
    "import numpy as np"
   ]
  },
  {
   "cell_type": "code",
   "execution_count": 16,
   "id": "8c065440",
   "metadata": {},
   "outputs": [
    {
     "data": {
      "text/plain": [
       "10.2"
      ]
     },
     "execution_count": 16,
     "metadata": {},
     "output_type": "execute_result"
    }
   ],
   "source": []
  },
  {
   "cell_type": "code",
   "execution_count": null,
   "id": "af469e23",
   "metadata": {},
   "outputs": [],
   "source": []
  }
 ],
 "metadata": {
  "kernelspec": {
   "display_name": "Python 3 (ipykernel)",
   "language": "python",
   "name": "python3"
  },
  "language_info": {
   "codemirror_mode": {
    "name": "ipython",
    "version": 3
   },
   "file_extension": ".py",
   "mimetype": "text/x-python",
   "name": "python",
   "nbconvert_exporter": "python",
   "pygments_lexer": "ipython3",
   "version": "3.11.3"
  }
 },
 "nbformat": 4,
 "nbformat_minor": 5
}
