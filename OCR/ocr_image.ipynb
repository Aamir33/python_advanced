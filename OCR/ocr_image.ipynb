{
 "cells": [
  {
   "cell_type": "code",
   "execution_count": 1,
   "id": "8ab28e9a",
   "metadata": {},
   "outputs": [],
   "source": [
    "import pytesseract\n",
    "from PIL import Image\n",
    "import os"
   ]
  },
  {
   "cell_type": "code",
   "execution_count": 29,
   "id": "e1194e85",
   "metadata": {},
   "outputs": [],
   "source": [
    "count = 1\n",
    "def ocr_process(directory_d, image_path):\n",
    "    global count\n",
    "    # Set the path to the Tesseract executable\n",
    "    pytesseract.pytesseract.tesseract_cmd = r'C:\\Program Files\\Tesseract-OCR\\tesseract.exe'  # Update this path based on your installation\n",
    "    # Open an image using Pillow (PIL)\n",
    "    image_path = f'{directory_d}/{image_path}'\n",
    "    img = Image.open(image_path)\n",
    "    # Perform OCR on the image\n",
    "    text = pytesseract.image_to_string(img)\n",
    "    #print(f\"Question number {count}\")\n",
    "    print(text)\n",
    "    count+=1"
   ]
  },
  {
   "cell_type": "code",
   "execution_count": 32,
   "id": "b6aa306b",
   "metadata": {},
   "outputs": [
    {
     "name": "stdout",
     "output_type": "stream",
     "text": [
      "The variance indicates the average distance of any observation in the data set\n",
      "from the mean.\n",
      "\n",
      "If the correlation coefficient is —1, which answer is correct?\n",
      "\n",
      "For displaying the shape of a distribution which graphical method you will use?\n",
      "\n",
      "Regardless of the shape of the parent population, the sampling distribution of\n",
      "the mean approaches:\n",
      "\n",
      "The positive square root of the mean of the squared deviations of the values\n",
      "from their mean is known as\n",
      "\n"
     ]
    }
   ],
   "source": [
    "directory_d = 'interview'\n",
    "listofImages = os.listdir(directory_d)\n",
    "for image in listofImages:\n",
    "    ocr_process(directory_d, image)"
   ]
  },
  {
   "cell_type": "code",
   "execution_count": 33,
   "id": "40b6c571",
   "metadata": {},
   "outputs": [
    {
     "data": {
      "text/plain": [
       "['Capture1.PNG',\n",
       " 'Capture2.PNG',\n",
       " 'Capture3.PNG',\n",
       " 'Capture4.PNG',\n",
       " 'Capture5.PNG']"
      ]
     },
     "execution_count": 33,
     "metadata": {},
     "output_type": "execute_result"
    }
   ],
   "source": [
    "listofImages"
   ]
  },
  {
   "cell_type": "code",
   "execution_count": null,
   "id": "74b9a352",
   "metadata": {},
   "outputs": [],
   "source": []
  },
  {
   "cell_type": "code",
   "execution_count": null,
   "id": "8e6cd2d2",
   "metadata": {},
   "outputs": [],
   "source": [
    "\"hello world\"[::-1]"
   ]
  },
  {
   "cell_type": "code",
   "execution_count": null,
   "id": "3318e192",
   "metadata": {},
   "outputs": [],
   "source": []
  }
 ],
 "metadata": {
  "kernelspec": {
   "display_name": "Python 3 (ipykernel)",
   "language": "python",
   "name": "python3"
  },
  "language_info": {
   "codemirror_mode": {
    "name": "ipython",
    "version": 3
   },
   "file_extension": ".py",
   "mimetype": "text/x-python",
   "name": "python",
   "nbconvert_exporter": "python",
   "pygments_lexer": "ipython3",
   "version": "3.11.3"
  }
 },
 "nbformat": 4,
 "nbformat_minor": 5
}
