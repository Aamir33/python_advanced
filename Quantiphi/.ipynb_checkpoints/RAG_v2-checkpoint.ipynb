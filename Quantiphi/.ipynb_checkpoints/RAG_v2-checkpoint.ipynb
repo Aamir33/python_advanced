{
 "cells": [
  {
   "cell_type": "code",
   "execution_count": 1,
   "id": "880b1d09",
   "metadata": {},
   "outputs": [
    {
     "ename": "ModuleNotFoundError",
     "evalue": "No module named 'haystack.document_store'",
     "output_type": "error",
     "traceback": [
      "\u001b[1;31m---------------------------------------------------------------------------\u001b[0m",
      "\u001b[1;31mModuleNotFoundError\u001b[0m                       Traceback (most recent call last)",
      "Cell \u001b[1;32mIn[1], line 3\u001b[0m\n\u001b[0;32m      1\u001b[0m \u001b[38;5;66;03m# Import necessary libraries\u001b[39;00m\n\u001b[0;32m      2\u001b[0m \u001b[38;5;28;01mfrom\u001b[39;00m \u001b[38;5;21;01mtransformers\u001b[39;00m \u001b[38;5;28;01mimport\u001b[39;00m RagTokenizer, RagRetriever, RagTokenForGeneration\n\u001b[1;32m----> 3\u001b[0m \u001b[38;5;28;01mfrom\u001b[39;00m \u001b[38;5;21;01mhaystack\u001b[39;00m\u001b[38;5;21;01m.\u001b[39;00m\u001b[38;5;21;01mdocument_store\u001b[39;00m\u001b[38;5;21;01m.\u001b[39;00m\u001b[38;5;21;01mfaiss\u001b[39;00m \u001b[38;5;28;01mimport\u001b[39;00m FAISSDocumentStore\n",
      "\u001b[1;31mModuleNotFoundError\u001b[0m: No module named 'haystack.document_store'"
     ]
    }
   ],
   "source": [
    "# Import necessary libraries\n",
    "from transformers import RagTokenizer, RagRetriever, RagTokenForGeneration\n",
    "from haystack.document_store.faiss import FAISSDocumentStore"
   ]
  },
  {
   "cell_type": "code",
   "execution_count": null,
   "id": "7c863564",
   "metadata": {},
   "outputs": [],
   "source": [
    "#!pip install transformers haystack"
   ]
  },
  {
   "cell_type": "code",
   "execution_count": null,
   "id": "fbd6b2f8",
   "metadata": {},
   "outputs": [],
   "source": []
  },
  {
   "cell_type": "code",
   "execution_count": null,
   "id": "a97b9548",
   "metadata": {},
   "outputs": [],
   "source": []
  },
  {
   "cell_type": "code",
   "execution_count": null,
   "id": "fb6ecdeb",
   "metadata": {},
   "outputs": [],
   "source": [
    "\n",
    "# Step 1: Download the PDF and extract text\n",
    "# You can use libraries like PyPDF2 or pdfplumber to extract text from the PDF\n",
    "\n",
    "# Step 2: Preprocess the text\n",
    "# This might involve cleaning the text, removing stop words, etc.\n",
    "\n",
    "# Step 3: Split the text into passages and store in an in-memory vector database\n",
    "# We'll use Haystack's FAISSDocumentStore for this\n",
    "doc_store = FAISSDocumentStore(faiss_index_factory_str=\"Flat\")\n",
    "\n",
    "# Assume `passages` is a list of dictionaries, each containing a passage of text\n",
    "# from your textbook chapters\n",
    "doc_store.write_documents(passages)\n",
    "\n",
    "# Step 4: Initialize RAG components\n",
    "tokenizer = RagTokenizer.from_pretrained(\"facebook/rag-token-nq\")\n",
    "retriever = RagRetriever.from_pretrained(\"facebook/rag-token-nq\", index=doc_store)\n",
    "model = RagTokenForGeneration.from_pretrained(\"facebook/rag-token-nq\")\n",
    "\n",
    "# Step 5: Use the RAG model to answer questions\n",
    "def answer_question(question):\n",
    "    # Encode the question\n",
    "    inputs = tokenizer(question, return_tensors=\"pt\")\n",
    "\n",
    "    # Retrieve relevant passages\n",
    "    retrieved_passages = retriever(inputs[\"input_ids\"], inputs[\"attention_mask\"], top_k=5)\n",
    "\n",
    "    # Generate an answer\n",
    "    generated = model.generate(retrieved_passages[\"input_ids\"], retrieved_passages[\"attention_mask\"])\n",
    "    answer = tokenizer.batch_decode(generated, skip_special_tokens=True)\n",
    "\n",
    "    return answer\n"
   ]
  },
  {
   "cell_type": "code",
   "execution_count": null,
   "id": "d1da2581",
   "metadata": {},
   "outputs": [],
   "source": [
    "answer_question(\"what is l1\")"
   ]
  },
  {
   "cell_type": "code",
   "execution_count": null,
   "id": "54edea6e",
   "metadata": {},
   "outputs": [],
   "source": [
    "tokenizer"
   ]
  },
  {
   "cell_type": "code",
   "execution_count": null,
   "id": "9d99ad68",
   "metadata": {},
   "outputs": [],
   "source": [
    "import haystack"
   ]
  },
  {
   "cell_type": "code",
   "execution_count": null,
   "id": "1221d710",
   "metadata": {},
   "outputs": [],
   "source": [
    "haystack.__dir__()"
   ]
  },
  {
   "cell_type": "code",
   "execution_count": null,
   "id": "442fd6c5",
   "metadata": {},
   "outputs": [],
   "source": []
  }
 ],
 "metadata": {
  "kernelspec": {
   "display_name": "Python 3 (ipykernel)",
   "language": "python",
   "name": "python3"
  },
  "language_info": {
   "codemirror_mode": {
    "name": "ipython",
    "version": 3
   },
   "file_extension": ".py",
   "mimetype": "text/x-python",
   "name": "python",
   "nbconvert_exporter": "python",
   "pygments_lexer": "ipython3",
   "version": "3.11.3"
  }
 },
 "nbformat": 4,
 "nbformat_minor": 5
}
