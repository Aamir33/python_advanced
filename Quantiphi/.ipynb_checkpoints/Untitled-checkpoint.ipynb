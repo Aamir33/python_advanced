{
 "cells": [
  {
   "cell_type": "code",
   "execution_count": 1,
   "id": "53c37825",
   "metadata": {},
   "outputs": [
    {
     "ename": "ImportError",
     "evalue": "cannot import name 'Document' from 'haystack' (C:\\Users\\U6054350\\AppData\\Roaming\\Python\\Python311\\site-packages\\haystack\\__init__.py)",
     "output_type": "error",
     "traceback": [
      "\u001b[1;31m---------------------------------------------------------------------------\u001b[0m",
      "\u001b[1;31mImportError\u001b[0m                               Traceback (most recent call last)",
      "Cell \u001b[1;32mIn[1], line 1\u001b[0m\n\u001b[1;32m----> 1\u001b[0m \u001b[38;5;28;01mfrom\u001b[39;00m \u001b[38;5;21;01mhaystack\u001b[39;00m \u001b[38;5;28;01mimport\u001b[39;00m Document, Finder\n\u001b[0;32m      2\u001b[0m \u001b[38;5;28;01mfrom\u001b[39;00m \u001b[38;5;21;01mhaystack\u001b[39;00m\u001b[38;5;21;01m.\u001b[39;00m\u001b[38;5;21;01mdocument_store\u001b[39;00m\u001b[38;5;21;01m.\u001b[39;00m\u001b[38;5;21;01melasticsearch\u001b[39;00m \u001b[38;5;28;01mimport\u001b[39;00m ElasticsearchDocumentStore\n\u001b[0;32m      3\u001b[0m \u001b[38;5;28;01mfrom\u001b[39;00m \u001b[38;5;21;01mhaystack\u001b[39;00m\u001b[38;5;21;01m.\u001b[39;00m\u001b[38;5;21;01mretriever\u001b[39;00m\u001b[38;5;21;01m.\u001b[39;00m\u001b[38;5;21;01msparse\u001b[39;00m \u001b[38;5;28;01mimport\u001b[39;00m ElasticsearchRetriever\n",
      "\u001b[1;31mImportError\u001b[0m: cannot import name 'Document' from 'haystack' (C:\\Users\\U6054350\\AppData\\Roaming\\Python\\Python311\\site-packages\\haystack\\__init__.py)"
     ]
    }
   ],
   "source": [
    "from haystack import Document, Finder\n",
    "from haystack.document_store.elasticsearch import ElasticsearchDocumentStore\n",
    "from haystack.retriever.sparse import ElasticsearchRetriever\n",
    "from haystack.generator.transformers import RAGenerator\n",
    "from haystack.pipeline import ExtractiveQAPipeline\n",
    "import pdfplumber\n",
    "\n",
    "# Step 1: Extract text from PDF\n",
    "def extract_text_from_pdf(pdf_path):\n",
    "    with pdfplumber.open(pdf_path) as pdf:\n",
    "        text = ''\n",
    "        for page in pdf.pages:\n",
    "            text += page.extract_text()\n",
    "    return text\n",
    "\n",
    "# Step 2: Preprocess text (if needed)\n",
    "\n",
    "# Step 3: Indexing\n",
    "document_store = ElasticsearchDocumentStore(host=\"localhost\", username=\"\", password=\"\", index=\"document\")\n",
    "\n",
    "# Step 4: Retrieval\n",
    "retriever = ElasticsearchRetriever(document_store=document_store)\n",
    "\n",
    "# Step 5: Generation\n",
    "generator = RAGenerator(model_name_or_path=\"facebook/rag-token-base\", use_gpu=False)\n",
    "\n",
    "# Step 6: Combine Retrieval and Generation\n",
    "finder = Finder(reader=None, retriever=retriever, generator=generator)\n",
    "\n",
    "# Question answering pipeline\n",
    "def answer_question(question, context):\n",
    "    prediction = finder.get_answers(question=question, top_k_retriever=5, top_k_generator=1, context=context)\n",
    "    return prediction[\"answers\"][0][\"answer\"]\n",
    "\n",
    "# Example usage\n",
    "pdf_path = \"path/to/your/pdf/book.pdf\"\n",
    "text = extract_text_from_pdf(pdf_path)\n",
    "document_store.write_documents([Document(text=text)])\n",
    "\n",
    "question = \"What is the capital of France?\"\n",
    "context = \"This is an optional context relevant to the question.\"\n",
    "\n",
    "answer = answer_question(question, context)\n",
    "print(\"Answer:\", answer)\n"
   ]
  },
  {
   "cell_type": "code",
   "execution_count": null,
   "id": "82ab7cad",
   "metadata": {},
   "outputs": [],
   "source": []
  }
 ],
 "metadata": {
  "kernelspec": {
   "display_name": "Python 3 (ipykernel)",
   "language": "python",
   "name": "python3"
  },
  "language_info": {
   "codemirror_mode": {
    "name": "ipython",
    "version": 3
   },
   "file_extension": ".py",
   "mimetype": "text/x-python",
   "name": "python",
   "nbconvert_exporter": "python",
   "pygments_lexer": "ipython3",
   "version": "3.11.3"
  }
 },
 "nbformat": 4,
 "nbformat_minor": 5
}
