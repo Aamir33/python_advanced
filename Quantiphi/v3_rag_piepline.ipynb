{
 "cells": [
  {
   "cell_type": "code",
   "execution_count": null,
   "id": "4b14b48b",
   "metadata": {},
   "outputs": [],
   "source": [
    "from transformers import T5ForConditionalGeneration, T5Tokenizer"
   ]
  },
  {
   "cell_type": "code",
   "execution_count": null,
   "id": "904c1f06",
   "metadata": {},
   "outputs": [],
   "source": [
    "#!pip install sentencepiece"
   ]
  },
  {
   "cell_type": "code",
   "execution_count": 2,
   "id": "16819d02",
   "metadata": {},
   "outputs": [
    {
     "ename": "NameError",
     "evalue": "name 'T5Tokenizer' is not defined",
     "output_type": "error",
     "traceback": [
      "\u001b[1;31m---------------------------------------------------------------------------\u001b[0m",
      "\u001b[1;31mNameError\u001b[0m                                 Traceback (most recent call last)",
      "Cell \u001b[1;32mIn[2], line 3\u001b[0m\n\u001b[0;32m      1\u001b[0m \u001b[38;5;66;03m# Load pre-trained T5 model and tokenizer\u001b[39;00m\n\u001b[0;32m      2\u001b[0m model_name \u001b[38;5;241m=\u001b[39m \u001b[38;5;124m\"\u001b[39m\u001b[38;5;124mt5-small\u001b[39m\u001b[38;5;124m\"\u001b[39m\n\u001b[1;32m----> 3\u001b[0m tokenizer \u001b[38;5;241m=\u001b[39m T5Tokenizer\u001b[38;5;241m.\u001b[39mfrom_pretrained(model_name)\n",
      "\u001b[1;31mNameError\u001b[0m: name 'T5Tokenizer' is not defined"
     ]
    }
   ],
   "source": [
    "# Load pre-trained T5 model and tokenizer\n",
    "model_name = \"t5-small\"\n",
    "tokenizer = T5Tokenizer.from_pretrained(model_name)"
   ]
  },
  {
   "cell_type": "code",
   "execution_count": null,
   "id": "a395d693",
   "metadata": {},
   "outputs": [],
   "source": [
    "model = T5ForConditionalGeneration.from_pretrained(model_name)"
   ]
  },
  {
   "cell_type": "code",
   "execution_count": null,
   "id": "0c2d439b",
   "metadata": {},
   "outputs": [],
   "source": [
    "def retrieve(text, query):\n",
    "    # Simple retrieval by searching for the query string in the text\n",
    "    passages = [p.strip() for p in text.split('\\n\\n') if query.lower() in p.lower()]\n",
    "    return passages\n",
    "\n",
    "def analyze(passages):\n",
    "    # Analyze the retrieved passages (not implemented here)\n",
    "    # For simplicity, we'll return all passages as analyzed context\n",
    "    return passages\n",
    "\n",
    "def generate_answers(contexts, question):\n",
    "    # Generate answers using the T5 model\n",
    "    answers = []\n",
    "    for context in contexts:\n",
    "        input_text = f\"question: {question} context: {context}\"\n",
    "        input_ids = tokenizer.encode(input_text, return_tensors=\"pt\", max_length=512, truncation=True)\n",
    "        outputs = model.generate(input_ids)\n",
    "        answer = tokenizer.decode(outputs[0], skip_special_tokens=True)\n",
    "        answers.append(answer)\n",
    "    return answers\n",
    "\n",
    "# Sample text\n",
    "text = \"\"\"[Text content]\"\"\"  # Paste the provided text here\n",
    "\n",
    "# Example question\n",
    "question = \"What is the mission of the educational initiative?\"\n",
    "\n",
    "# Step 1: Retrieve relevant passages\n",
    "passages = retrieve(text, question)\n",
    "\n",
    "# Step 2: Analyze the passages (not implemented here)\n",
    "\n",
    "# Step 3: Generate answers\n",
    "answers = generate_answers(passages, question)\n",
    "\n",
    "# Print answers\n",
    "for i, answer in enumerate(answers, 1):\n",
    "    print(f\"Answer {i}: {answer}\")\n"
   ]
  }
 ],
 "metadata": {
  "kernelspec": {
   "display_name": "Python 3 (ipykernel)",
   "language": "python",
   "name": "python3"
  },
  "language_info": {
   "codemirror_mode": {
    "name": "ipython",
    "version": 3
   },
   "file_extension": ".py",
   "mimetype": "text/x-python",
   "name": "python",
   "nbconvert_exporter": "python",
   "pygments_lexer": "ipython3",
   "version": "3.11.3"
  }
 },
 "nbformat": 4,
 "nbformat_minor": 5
}
