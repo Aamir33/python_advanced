{
 "cells": [
  {
   "cell_type": "code",
   "execution_count": null,
   "id": "1ba5c738",
   "metadata": {},
   "outputs": [],
   "source": [
    "#Description: Predict the price of ETH"
   ]
  },
  {
   "cell_type": "code",
   "execution_count": null,
   "id": "f7e69a50",
   "metadata": {},
   "outputs": [],
   "source": [
    "# https://www.youtube.com/watch?v=OcpAkACOwW0"
   ]
  },
  {
   "cell_type": "code",
   "execution_count": null,
   "id": "0b11694b",
   "metadata": {},
   "outputs": [],
   "source": [
    "import pandas as pd\n",
    "from sklearn.model_selection import train_test_split\n",
    "from sklearn.linear_model import LinearRegression\n",
    "from sklearn.metrics import mean_squared_error"
   ]
  },
  {
   "cell_type": "code",
   "execution_count": null,
   "id": "2977187d",
   "metadata": {},
   "outputs": [],
   "source": [
    "# Load historical price data\n",
    "data = pd.read_csv('ethereum_price_data.csv')"
   ]
  },
  {
   "cell_type": "code",
   "execution_count": null,
   "id": "5480b3f6",
   "metadata": {},
   "outputs": [],
   "source": [
    "# Load historical price data\n",
    "data = pd.read_csv('ethereum_price_data.csv')"
   ]
  },
  {
   "cell_type": "code",
   "execution_count": null,
   "id": "432dd386",
   "metadata": {},
   "outputs": [],
   "source": [
    "# Feature Engineering (Add technical indicators)\n",
    "# For simplicity, let's assume we have already added technical indicators as features\n",
    "\n",
    "# Select features and target variable\n",
    "features = ['Open', 'High', 'Low', 'Close', 'Volume', 'SMA_20', 'RSI']\n",
    "target = 'Close'"
   ]
  },
  {
   "cell_type": "code",
   "execution_count": null,
   "id": "6227fa1c",
   "metadata": {},
   "outputs": [],
   "source": [
    "# Split data into features and target variable\n",
    "X = data[features]\n",
    "y = data[target]"
   ]
  },
  {
   "cell_type": "code",
   "execution_count": null,
   "id": "8d198e97",
   "metadata": {},
   "outputs": [],
   "source": [
    "# Split data into training and testing sets\n",
    "X_train, X_test, y_train, y_test = train_test_split(X, y, test_size=0.2, random_state=42)"
   ]
  },
  {
   "cell_type": "code",
   "execution_count": null,
   "id": "757abff6",
   "metadata": {},
   "outputs": [],
   "source": [
    "# Choose model (Linear Regression)\n",
    "model = LinearRegression()"
   ]
  },
  {
   "cell_type": "code",
   "execution_count": null,
   "id": "1d49cc42",
   "metadata": {},
   "outputs": [],
   "source": [
    "# Train model\n",
    "model.fit(X_train, y_train)"
   ]
  },
  {
   "cell_type": "code",
   "execution_count": null,
   "id": "926bb5d0",
   "metadata": {},
   "outputs": [],
   "source": [
    "# Evaluate model\n",
    "y_pred = model.predict(X_test)\n",
    "mse = mean_squared_error(y_test, y_pred)\n",
    "print(\"Mean Squared Error:\", mse)"
   ]
  },
  {
   "cell_type": "code",
   "execution_count": null,
   "id": "e68f7ecb",
   "metadata": {},
   "outputs": [],
   "source": [
    "# Make predictions (predicting next day's price)\n",
    "# Assuming X_new contains the features for the next day\n",
    "X_new = ...  # Your new data\n",
    "predicted_price = model.predict(X_new)\n",
    "print(\"Predicted price for the next day:\", predicted_price)"
   ]
  },
  {
   "cell_type": "code",
   "execution_count": null,
   "id": "311647a4",
   "metadata": {},
   "outputs": [],
   "source": [
    "import requests\n",
    "import pandas as pd\n",
    "from ta import add_all_ta_features\n",
    "\n",
    "# Define the URL for fetching Ethereum price data from CoinGecko API\n",
    "url = 'https://api.coingecko.com/api/v3/coins/ethereum/market_chart?vs_currency=usd&days=365'\n",
    "\n",
    "# Fetch data from the API\n",
    "response = requests.get(url)\n",
    "data = response.json()\n",
    "\n",
    "# Extract relevant data (timestamps and prices)\n",
    "timestamps = [point[0] for point in data['prices']]\n",
    "prices = [point[1] for point in data['prices']]\n",
    "\n",
    "# Create a pandas DataFrame\n",
    "ethereum_price_data = pd.DataFrame({'Timestamp': timestamps, 'Price (USD)': prices})\n",
    "\n",
    "# Convert timestamp to datetime format\n",
    "ethereum_price_data['Timestamp'] = pd.to_datetime(ethereum_price_data['Timestamp'], unit='ms')\n",
    "\n",
    "# Calculate technical indicators using ta library\n",
    "ethereum_price_data = add_all_ta_features(ethereum_price_data, 'Open', 'High', 'Low', 'Close', 'Volume', fillna=True)\n",
    "\n",
    "# Select relevant features\n",
    "features = ['Open', 'High', 'Low', 'Close', 'Volume', 'SMA_20', 'RSI']\n",
    "ethereum_price_data = ethereum_price_data[features]\n",
    "\n",
    "# Print the DataFrame\n",
    "print(ethereum_price_data.head())\n",
    "\n",
    "# Optionally, you can save the data to a CSV file\n",
    "ethereum_price_data.to_csv('ethereum_price_data_with_features.csv', index=False)\n"
   ]
  },
  {
   "cell_type": "code",
   "execution_count": null,
   "id": "b4f6842b",
   "metadata": {},
   "outputs": [],
   "source": [
    "ethereum_price_data"
   ]
  },
  {
   "cell_type": "code",
   "execution_count": null,
   "id": "3777b873",
   "metadata": {},
   "outputs": [],
   "source": []
  },
  {
   "cell_type": "code",
   "execution_count": null,
   "id": "2b73158e",
   "metadata": {},
   "outputs": [],
   "source": []
  },
  {
   "cell_type": "code",
   "execution_count": null,
   "id": "83541fed",
   "metadata": {},
   "outputs": [],
   "source": []
  }
 ],
 "metadata": {
  "kernelspec": {
   "display_name": "Python 3 (ipykernel)",
   "language": "python",
   "name": "python3"
  },
  "language_info": {
   "codemirror_mode": {
    "name": "ipython",
    "version": 3
   },
   "file_extension": ".py",
   "mimetype": "text/x-python",
   "name": "python",
   "nbconvert_exporter": "python",
   "pygments_lexer": "ipython3",
   "version": "3.11.3"
  }
 },
 "nbformat": 4,
 "nbformat_minor": 5
}
