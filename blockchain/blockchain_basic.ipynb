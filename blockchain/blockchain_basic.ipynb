{
 "cells": [
  {
   "cell_type": "code",
   "execution_count": 44,
   "id": "3358706e",
   "metadata": {},
   "outputs": [],
   "source": [
    "# The program simulates the Blockchain "
   ]
  },
  {
   "cell_type": "code",
   "execution_count": 45,
   "id": "1ed00d18",
   "metadata": {},
   "outputs": [],
   "source": [
    "import hashlib\n",
    "from hashlib import sha256\n",
    "from typing import Self, Any, List"
   ]
  },
  {
   "cell_type": "code",
   "execution_count": 46,
   "id": "982db906",
   "metadata": {},
   "outputs": [],
   "source": [
    "# Create a block class\n",
    "class Block:\n",
    "    def __init__(self, data:str, prev_hash:str) -> None:\n",
    "        self.data = data\n",
    "        self.prev_hash = prev_hash\n",
    "        self.hash = self.calc_hash()\n",
    "        \n",
    "    def calc_hash(self)-> str:\n",
    "        sha:sha256 = hashlib.sha256()\n",
    "        sha.update(self.data.encode('utf-8'))\n",
    "        return sha.hexdigest()"
   ]
  },
  {
   "cell_type": "code",
   "execution_count": 47,
   "id": "c6152a83",
   "metadata": {},
   "outputs": [],
   "source": [
    "# Create BlockChain Class\n",
    "class Blockchain:\n",
    "    def __init__(self) -> None:\n",
    "        self.chain: List[Any] = [self.create_genesis_block()]\n",
    "    \n",
    "    # Create a method that creates the first block in the blockchain also Know as the 'Genesis Block'\n",
    "    def create_genesis_block(self) -> Block:\n",
    "        return Block(\"Genesis Block\", \"0\")\n",
    "    \n",
    "    # Create a method that creates a new block and it to the Block Chain (aka the list)\n",
    "    def add_block(self, data:str) -> None:\n",
    "        prev_block = self.chain[-1]\n",
    "        new_block = Block(data, prev_block.hash)\n",
    "        self.chain.append(new_block)\n",
    "    \n",
    "    def print_chain(self) -> None:\n",
    "        for block in self.chain:\n",
    "            print(f\"Data: {block.data}\\nHash: {block.hash}\\nPrevious Hash: {block.prev_hash}\\n\")\n",
    "    \n",
    "    def validate_chain(self) -> bool:\n",
    "        for i in range(1, len(self.chain)):\n",
    "            current_block = self.chain[i]\n",
    "            previous_block = self.chain[i - 1]\n",
    "            \n",
    "            if current_block.hash != current_block.calc_hash():\n",
    "                return False\n",
    "            \n",
    "            if current_block.prev_hash != previous_block.hash:\n",
    "                return False\n",
    "        \n",
    "        return True"
   ]
  },
  {
   "cell_type": "code",
   "execution_count": 48,
   "id": "0d41adef",
   "metadata": {},
   "outputs": [],
   "source": [
    "def main() -> None:\n",
    "    blockchain:Blockchain = Blockchain()\n",
    "    blockchain.add_block(\"Data of block 1\")\n",
    "    blockchain.add_block(\"Data of block 2\")\n",
    "    blockchain.print_chain()\n",
    "    print(\"Is the blockchain valid?\", blockchain.validate_chain())"
   ]
  },
  {
   "cell_type": "code",
   "execution_count": 49,
   "id": "575e05e6",
   "metadata": {},
   "outputs": [
    {
     "name": "stdout",
     "output_type": "stream",
     "text": [
      "Data: Genesis Block\n",
      "Hash: 89eb0ac031a63d2421cd05a2fbe41f3ea35f5c3712ca839cbf6b85c4ee07b7a3\n",
      "Previous Hash: 0\n",
      "\n",
      "Data: Data of block 1\n",
      "Hash: 85cc80a8e6537d0d0c3328ea64521b28eabec61c226950f6c9632cd46feffd13\n",
      "Previous Hash: 89eb0ac031a63d2421cd05a2fbe41f3ea35f5c3712ca839cbf6b85c4ee07b7a3\n",
      "\n",
      "Data: Data of block 2\n",
      "Hash: 37083cd12cea54bdc80c5af9e48861b67b74aa12a4c9b2cf647042b79e45e618\n",
      "Previous Hash: 85cc80a8e6537d0d0c3328ea64521b28eabec61c226950f6c9632cd46feffd13\n",
      "\n",
      "Is the blockchain valid? True\n"
     ]
    }
   ],
   "source": [
    "main()"
   ]
  },
  {
   "cell_type": "code",
   "execution_count": null,
   "id": "5d0ff7bd",
   "metadata": {},
   "outputs": [],
   "source": []
  },
  {
   "cell_type": "code",
   "execution_count": null,
   "id": "0b2861c6",
   "metadata": {},
   "outputs": [],
   "source": []
  },
  {
   "cell_type": "code",
   "execution_count": null,
   "id": "39ee9b3a",
   "metadata": {},
   "outputs": [],
   "source": []
  },
  {
   "cell_type": "code",
   "execution_count": null,
   "id": "4fad338b",
   "metadata": {},
   "outputs": [],
   "source": []
  },
  {
   "cell_type": "code",
   "execution_count": null,
   "id": "7612c25a",
   "metadata": {},
   "outputs": [],
   "source": []
  },
  {
   "cell_type": "code",
   "execution_count": null,
   "id": "93ade7be",
   "metadata": {},
   "outputs": [],
   "source": []
  }
 ],
 "metadata": {
  "kernelspec": {
   "display_name": "Python 3 (ipykernel)",
   "language": "python",
   "name": "python3"
  },
  "language_info": {
   "codemirror_mode": {
    "name": "ipython",
    "version": 3
   },
   "file_extension": ".py",
   "mimetype": "text/x-python",
   "name": "python",
   "nbconvert_exporter": "python",
   "pygments_lexer": "ipython3",
   "version": "3.11.3"
  }
 },
 "nbformat": 4,
 "nbformat_minor": 5
}
