{
 "cells": [
  {
   "cell_type": "code",
   "execution_count": null,
   "id": "cd28cada",
   "metadata": {},
   "outputs": [],
   "source": [
    "def count_characters(string):\n",
    "    char_count = {}\n",
    "    for char in string:\n",
    "        if char in char_count:\n",
    "            char_count[char] += 1\n",
    "        else:\n",
    "            char_count[char] = 1\n",
    "    return char_count"
   ]
  },
  {
   "cell_type": "code",
   "execution_count": null,
   "id": "f458bf30",
   "metadata": {},
   "outputs": [],
   "source": [
    "# Example usage:\n",
    "input_string = \"abbc an\"\n",
    "result = count_characters(input_string)"
   ]
  },
  {
   "cell_type": "code",
   "execution_count": null,
   "id": "db51d952",
   "metadata": {},
   "outputs": [],
   "source": [
    "result"
   ]
  },
  {
   "cell_type": "code",
   "execution_count": null,
   "id": "396a46f6",
   "metadata": {},
   "outputs": [],
   "source": []
  },
  {
   "cell_type": "code",
   "execution_count": null,
   "id": "a57a979c",
   "metadata": {},
   "outputs": [],
   "source": []
  },
  {
   "cell_type": "code",
   "execution_count": 23,
   "id": "1d2cfa82",
   "metadata": {},
   "outputs": [],
   "source": [
    "str1 = \"aaaa\""
   ]
  },
  {
   "cell_type": "code",
   "execution_count": 24,
   "id": "55c168e6",
   "metadata": {},
   "outputs": [],
   "source": [
    "input_str = {}\n",
    "for char in str1:\n",
    "    if char in input_str:\n",
    "        input_str[char] += 1\n",
    "    else:\n",
    "        input_str[char] = 1"
   ]
  },
  {
   "cell_type": "code",
   "execution_count": 25,
   "id": "642a84ce",
   "metadata": {},
   "outputs": [
    {
     "data": {
      "text/plain": [
       "{'a': 4}"
      ]
     },
     "execution_count": 25,
     "metadata": {},
     "output_type": "execute_result"
    }
   ],
   "source": [
    "input_str"
   ]
  },
  {
   "cell_type": "code",
   "execution_count": 39,
   "id": "d358c62d",
   "metadata": {},
   "outputs": [],
   "source": [
    "from dataclasses import dataclass\n",
    "\n",
    "@dataclass\n",
    "class Position:\n",
    "    name: str\n",
    "    lon: float\n",
    "    lat: float"
   ]
  },
  {
   "cell_type": "code",
   "execution_count": 36,
   "id": "6f4b81ca",
   "metadata": {},
   "outputs": [],
   "source": []
  },
  {
   "cell_type": "code",
   "execution_count": 37,
   "id": "0ef0edc8",
   "metadata": {},
   "outputs": [
    {
     "data": {
      "text/plain": [
       "Position(name='Aamir', lon=9.4, lat=89.3)"
      ]
     },
     "execution_count": 37,
     "metadata": {},
     "output_type": "execute_result"
    }
   ],
   "source": []
  },
  {
   "cell_type": "code",
   "execution_count": null,
   "id": "77424758",
   "metadata": {},
   "outputs": [],
   "source": []
  },
  {
   "cell_type": "code",
   "execution_count": 38,
   "id": "05ef2030",
   "metadata": {},
   "outputs": [],
   "source": []
  },
  {
   "cell_type": "code",
   "execution_count": null,
   "id": "1c56c633",
   "metadata": {},
   "outputs": [],
   "source": []
  }
 ],
 "metadata": {
  "kernelspec": {
   "display_name": "Python 3 (ipykernel)",
   "language": "python",
   "name": "python3"
  },
  "language_info": {
   "codemirror_mode": {
    "name": "ipython",
    "version": 3
   },
   "file_extension": ".py",
   "mimetype": "text/x-python",
   "name": "python",
   "nbconvert_exporter": "python",
   "pygments_lexer": "ipython3",
   "version": "3.11.3"
  }
 },
 "nbformat": 4,
 "nbformat_minor": 5
}
