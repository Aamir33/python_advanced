{
 "cells": [
  {
   "cell_type": "markdown",
   "id": "e9ebb97c",
   "metadata": {},
   "source": [
    "# Python Dictionary, Default Dict Counter Tricks"
   ]
  },
  {
   "cell_type": "code",
   "execution_count": 1,
   "id": "c9de35d2",
   "metadata": {},
   "outputs": [
    {
     "name": "stdout",
     "output_type": "stream",
     "text": [
      "{'a': 2, 'm': 1, 'i': 1, 'r': 1}\n"
     ]
    }
   ],
   "source": [
    "def get_counter(s):\n",
    "    counter = {}\n",
    "    for c in s:\n",
    "        if c in counter:\n",
    "            counter[c]+=1\n",
    "        else:\n",
    "            counter[c] = 1\n",
    "    return counter\n",
    "print(get_counter('aamir'))"
   ]
  },
  {
   "cell_type": "code",
   "execution_count": 2,
   "id": "4ac337e8",
   "metadata": {},
   "outputs": [
    {
     "name": "stdout",
     "output_type": "stream",
     "text": [
      "defaultdict(<class 'int'>, {'a': 2, 'm': 1, 'i': 1, 'r': 1})\n"
     ]
    }
   ],
   "source": [
    "# better Way \n",
    "from collections import defaultdict\n",
    "def get_counter(s):\n",
    "    counter = defaultdict(int)\n",
    "    for c in s:\n",
    "        counter[c]+=1  # it will not through error as we are using the default dict and it will imdedaily put that in dict\n",
    "    return counter\n",
    "print(get_counter('aamir'))"
   ]
  },
  {
   "cell_type": "code",
   "execution_count": 3,
   "id": "2f312288",
   "metadata": {},
   "outputs": [
    {
     "name": "stdout",
     "output_type": "stream",
     "text": [
      "Counter({'a': 2, 'm': 1, 'i': 1, 'r': 1})\n"
     ]
    }
   ],
   "source": [
    "# It is common patter and it is fully implemneted \n",
    "from collections import Counter\n",
    "def get_counter(s):\n",
    "    return Counter(s)\n",
    "print(get_counter('aamir'))"
   ]
  },
  {
   "cell_type": "code",
   "execution_count": null,
   "id": "dabbc0f9",
   "metadata": {},
   "outputs": [],
   "source": []
  }
 ],
 "metadata": {
  "kernelspec": {
   "display_name": "Python 3 (ipykernel)",
   "language": "python",
   "name": "python3"
  },
  "language_info": {
   "codemirror_mode": {
    "name": "ipython",
    "version": 3
   },
   "file_extension": ".py",
   "mimetype": "text/x-python",
   "name": "python",
   "nbconvert_exporter": "python",
   "pygments_lexer": "ipython3",
   "version": "3.11.3"
  }
 },
 "nbformat": 4,
 "nbformat_minor": 5
}
