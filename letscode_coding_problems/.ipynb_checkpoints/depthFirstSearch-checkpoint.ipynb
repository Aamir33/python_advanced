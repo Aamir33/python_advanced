{
 "cells": [
  {
   "cell_type": "code",
   "execution_count": 1,
   "id": "d3958c92",
   "metadata": {},
   "outputs": [],
   "source": [
    "#### Problem \n",
    "#               A\n",
    "#           /   |    \\\n",
    "#          B    C    D\n",
    "#         / \\\n",
    "#        E   F\n",
    "#       |\n",
    "#      G\n",
    "#    A B E G F C D    O(n)"
   ]
  },
  {
   "cell_type": "code",
   "execution_count": 9,
   "id": "8b1fe6a5",
   "metadata": {},
   "outputs": [],
   "source": [
    "def depthFirstSearch(tree):\n",
    "    if tree is None:\n",
    "        return\n",
    "    print(tree.value)\n",
    "    for child in tree.children:\n",
    "        depthFirstSearc(child)"
   ]
  },
  {
   "cell_type": "code",
   "execution_count": 10,
   "id": "66979058",
   "metadata": {},
   "outputs": [
    {
     "name": "stdout",
     "output_type": "stream",
     "text": [
      "Depth-First Search:\n",
      "A\n",
      "B\n",
      "E\n",
      "G\n",
      "F\n",
      "C\n",
      "D\n"
     ]
    }
   ],
   "source": [
    "class TreeNode:\n",
    "    def __init__(self, value):\n",
    "        self.value = value\n",
    "        self.children = []\n",
    "\n",
    "# Creating a tree\n",
    "rootA = TreeNode(\"A\")\n",
    "nodeB = TreeNode(\"B\")\n",
    "nodeC = TreeNode(\"C\")\n",
    "nodeD = TreeNode(\"D\")\n",
    "nodeE = TreeNode(\"E\")\n",
    "nodeF = TreeNode(\"F\")\n",
    "nodeG = TreeNode(\"G\")\n",
    "\n",
    "root.children = [nodeB, nodeC, nodeD]\n",
    "nodeB.children = [nodeE, nodeF]\n",
    "nodeE.children = [nodeG]\n",
    "\n",
    "# Calling depth-first search\n",
    "print(\"Depth-First Search:\")\n",
    "depthFirstSearch(root)"
   ]
  },
  {
   "cell_type": "code",
   "execution_count": null,
   "id": "4e5f98cf",
   "metadata": {},
   "outputs": [],
   "source": []
  },
  {
   "cell_type": "code",
   "execution_count": null,
   "id": "4bb8cadc",
   "metadata": {},
   "outputs": [],
   "source": []
  }
 ],
 "metadata": {
  "kernelspec": {
   "display_name": "Python 3 (ipykernel)",
   "language": "python",
   "name": "python3"
  },
  "language_info": {
   "codemirror_mode": {
    "name": "ipython",
    "version": 3
   },
   "file_extension": ".py",
   "mimetype": "text/x-python",
   "name": "python",
   "nbconvert_exporter": "python",
   "pygments_lexer": "ipython3",
   "version": "3.11.3"
  }
 },
 "nbformat": 4,
 "nbformat_minor": 5
}
