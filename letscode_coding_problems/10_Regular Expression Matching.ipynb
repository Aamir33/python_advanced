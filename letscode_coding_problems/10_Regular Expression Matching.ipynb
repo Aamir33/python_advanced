{
 "cells": [
  {
   "cell_type": "code",
   "execution_count": 22,
   "id": "0c1a0cf6",
   "metadata": {},
   "outputs": [],
   "source": [
    "# https://leetcode.com/problems/regular-expression-matching/description/"
   ]
  },
  {
   "cell_type": "code",
   "execution_count": null,
   "id": "4d7e8228",
   "metadata": {},
   "outputs": [],
   "source": [
    "import re"
   ]
  },
  {
   "cell_type": "code",
   "execution_count": 17,
   "id": "51b9a3bf",
   "metadata": {},
   "outputs": [],
   "source": [
    "s = \"aa\"\n",
    "p = \"aa\""
   ]
  },
  {
   "cell_type": "code",
   "execution_count": 20,
   "id": "c7d12f65",
   "metadata": {},
   "outputs": [],
   "source": [
    "s = \"aa\"\n",
    "p = \"a*\""
   ]
  },
  {
   "cell_type": "code",
   "execution_count": 21,
   "id": "0e337738",
   "metadata": {},
   "outputs": [],
   "source": [
    "re.match(s,p)"
   ]
  },
  {
   "cell_type": "code",
   "execution_count": null,
   "id": "158e26df",
   "metadata": {},
   "outputs": [],
   "source": []
  },
  {
   "cell_type": "code",
   "execution_count": null,
   "id": "36b2b977",
   "metadata": {},
   "outputs": [],
   "source": []
  },
  {
   "cell_type": "code",
   "execution_count": null,
   "id": "330f773b",
   "metadata": {},
   "outputs": [],
   "source": []
  }
 ],
 "metadata": {
  "kernelspec": {
   "display_name": "Python 3 (ipykernel)",
   "language": "python",
   "name": "python3"
  },
  "language_info": {
   "codemirror_mode": {
    "name": "ipython",
    "version": 3
   },
   "file_extension": ".py",
   "mimetype": "text/x-python",
   "name": "python",
   "nbconvert_exporter": "python",
   "pygments_lexer": "ipython3",
   "version": "3.11.3"
  }
 },
 "nbformat": 4,
 "nbformat_minor": 5
}
