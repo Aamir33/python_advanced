{
 "cells": [
  {
   "cell_type": "markdown",
   "id": "ae2cf591",
   "metadata": {},
   "source": [
    "- https://leetcode.com/problems/fibonacci-number/description/\n",
    "\n",
    "The Fibonacci numbers, commonly denoted F(n) form a sequence, called the Fibonacci sequence, such that each number is the sum of the two preceding ones, starting from 0 and 1. That is,\n",
    "\n",
    "F(0) = 0, F(1) = 1\n",
    "F(n) = F(n - 1) + F(n - 2), for n > 1.\n",
    "Given n, calculate F(n).\n",
    "\n",
    " \n",
    "\n",
    "Example 1:\n",
    "\n",
    "Input: n = 2\n",
    "Output: 1\n",
    "Explanation: F(2) = F(1) + F(0) = 1 + 0 = 1."
   ]
  },
  {
   "cell_type": "code",
   "execution_count": 34,
   "id": "47763a3e",
   "metadata": {},
   "outputs": [],
   "source": [
    "## Normal Programmer\n",
    "## Recursursive Backtracking | time complexity = O(b^n)\n",
    "class Solution:\n",
    "    def fib(self, n: int) -> int:\n",
    "        if(n == 0):\n",
    "            return 0\n",
    "        if(n == 1):\n",
    "            return 1\n",
    "        return self.fib(n-1) + self.fib(n-2)"
   ]
  },
  {
   "cell_type": "code",
   "execution_count": 35,
   "id": "ba58eabb",
   "metadata": {},
   "outputs": [
    {
     "data": {
      "text/plain": [
       "34"
      ]
     },
     "execution_count": 35,
     "metadata": {},
     "output_type": "execute_result"
    }
   ],
   "source": [
    "Solution().fib(9)"
   ]
  },
  {
   "cell_type": "code",
   "execution_count": 36,
   "id": "79ec6c83",
   "metadata": {},
   "outputs": [],
   "source": [
    "## Linear solution O(n) [best solution]\n",
    "class Solution:\n",
    "    def fib(self, n: int) -> int:\n",
    "        ans = [0,1]\n",
    "        for i in range(2, n+1):\n",
    "            ans.append(ans[i-1] + ans[i-2])\n",
    "        return ans[n]"
   ]
  },
  {
   "cell_type": "code",
   "execution_count": 38,
   "id": "1bd208a1",
   "metadata": {},
   "outputs": [
    {
     "data": {
      "text/plain": [
       "354224848179261915075"
      ]
     },
     "execution_count": 38,
     "metadata": {},
     "output_type": "execute_result"
    }
   ],
   "source": [
    "Solution().fib(10)"
   ]
  },
  {
   "cell_type": "markdown",
   "id": "cbb934b8",
   "metadata": {},
   "source": [
    "In Python, @cache is typically used as a decorator in the context of caching function results. It's commonly associated with the functools module. This decorator automatically caches the results of a function, saving them for future calls with the same arguments. This can be particularly useful for functions with expensive computations or I/O operations, where caching can significantly improve performance by avoiding redundant work.\n",
    "\n",
    "Here's a basic example of how @cache can be used:"
   ]
  },
  {
   "cell_type": "code",
   "execution_count": 5,
   "id": "dd75a562",
   "metadata": {},
   "outputs": [],
   "source": [
    "# cacche solution \n",
    "from functools import cache\n",
    "class Solution:\n",
    "    @cache\n",
    "    def fib(self, n: int) -> int:\n",
    "        if n<=1:\n",
    "            return n\n",
    "        return self.fib(n-1) + self.fib(n-2)"
   ]
  },
  {
   "cell_type": "code",
   "execution_count": 9,
   "id": "0db9fd21",
   "metadata": {},
   "outputs": [
    {
     "data": {
      "text/plain": [
       "354224848179261915075"
      ]
     },
     "execution_count": 9,
     "metadata": {},
     "output_type": "execute_result"
    }
   ],
   "source": [
    "Solution().fib(100)"
   ]
  },
  {
   "cell_type": "code",
   "execution_count": 3,
   "id": "82788292",
   "metadata": {},
   "outputs": [
    {
     "data": {
      "text/plain": [
       "55"
      ]
     },
     "execution_count": 3,
     "metadata": {},
     "output_type": "execute_result"
    }
   ],
   "source": []
  },
  {
   "cell_type": "code",
   "execution_count": 40,
   "id": "1c161ba8",
   "metadata": {},
   "outputs": [
    {
     "name": "stdout",
     "output_type": "stream",
     "text": [
      "2\n",
      "3\n",
      "4\n",
      "5\n",
      "6\n",
      "7\n",
      "8\n",
      "9\n",
      "10\n"
     ]
    }
   ],
   "source": []
  },
  {
   "cell_type": "code",
   "execution_count": 41,
   "id": "68dc55bd",
   "metadata": {},
   "outputs": [
    {
     "data": {
      "text/plain": [
       "[0, 1, 1, 2, 3, 5, 8, 13, 21, 34, 55]"
      ]
     },
     "execution_count": 41,
     "metadata": {},
     "output_type": "execute_result"
    }
   ],
   "source": [
    "ans"
   ]
  },
  {
   "cell_type": "code",
   "execution_count": null,
   "id": "86c1a59f",
   "metadata": {},
   "outputs": [],
   "source": []
  },
  {
   "cell_type": "code",
   "execution_count": null,
   "id": "628ff73c",
   "metadata": {},
   "outputs": [],
   "source": []
  }
 ],
 "metadata": {
  "kernelspec": {
   "display_name": "Python 3 (ipykernel)",
   "language": "python",
   "name": "python3"
  },
  "language_info": {
   "codemirror_mode": {
    "name": "ipython",
    "version": 3
   },
   "file_extension": ".py",
   "mimetype": "text/x-python",
   "name": "python",
   "nbconvert_exporter": "python",
   "pygments_lexer": "ipython3",
   "version": "3.11.3"
  }
 },
 "nbformat": 4,
 "nbformat_minor": 5
}
