{
 "cells": [
  {
   "cell_type": "code",
   "execution_count": 4,
   "id": "21b1168e",
   "metadata": {},
   "outputs": [],
   "source": [
    "import pyautogui as pag\n",
    "import random\n",
    "import time\n",
    "# !pip install pyautogui"
   ]
  },
  {
   "cell_type": "code",
   "execution_count": 3,
   "id": "167b5077",
   "metadata": {},
   "outputs": [
    {
     "ename": "KeyboardInterrupt",
     "evalue": "",
     "output_type": "error",
     "traceback": [
      "\u001b[1;31m---------------------------------------------------------------------------\u001b[0m",
      "\u001b[1;31mKeyboardInterrupt\u001b[0m                         Traceback (most recent call last)",
      "Cell \u001b[1;32mIn[3], line 5\u001b[0m\n\u001b[0;32m      3\u001b[0m y\u001b[38;5;241m=\u001b[39m random\u001b[38;5;241m.\u001b[39mrandint(\u001b[38;5;241m200\u001b[39m,\u001b[38;5;241m600\u001b[39m)\n\u001b[0;32m      4\u001b[0m pag\u001b[38;5;241m.\u001b[39mmoveTo(x,y,\u001b[38;5;241m0.5\u001b[39m)\n\u001b[1;32m----> 5\u001b[0m time\u001b[38;5;241m.\u001b[39msleep(\u001b[38;5;241m5\u001b[39m)\n\u001b[0;32m      6\u001b[0m pag\u001b[38;5;241m.\u001b[39mrightClick()\n\u001b[0;32m      7\u001b[0m time\u001b[38;5;241m.\u001b[39msleep(\u001b[38;5;241m5\u001b[39m)\n",
      "\u001b[1;31mKeyboardInterrupt\u001b[0m: "
     ]
    }
   ],
   "source": [
    "while True:\n",
    "    x= random.randint(600,700)\n",
    "    y= random.randint(200,600)\n",
    "    pag.moveTo(x,y,0.5)\n",
    "    time.sleep(5)\n",
    "    pag.rightClick()\n",
    "    time.sleep(5)\n",
    "    pag.click()"
   ]
  },
  {
   "cell_type": "code",
   "execution_count": 11,
   "id": "a3db2949",
   "metadata": {},
   "outputs": [],
   "source": [
    "pag.typewrite('Hello, world!', interval=0.1)"
   ]
  },
  {
   "cell_type": "raw",
   "id": "4973b200",
   "metadata": {},
   "source": []
  },
  {
   "cell_type": "raw",
   "id": "1010777b",
   "metadata": {},
   "source": []
  }
 ],
 "metadata": {
  "kernelspec": {
   "display_name": "Python 3 (ipykernel)",
   "language": "python",
   "name": "python3"
  },
  "language_info": {
   "codemirror_mode": {
    "name": "ipython",
    "version": 3
   },
   "file_extension": ".py",
   "mimetype": "text/x-python",
   "name": "python",
   "nbconvert_exporter": "python",
   "pygments_lexer": "ipython3",
   "version": "3.11.3"
  }
 },
 "nbformat": 4,
 "nbformat_minor": 5
}
