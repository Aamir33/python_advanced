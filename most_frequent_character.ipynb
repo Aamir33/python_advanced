{
 "cells": [
  {
   "cell_type": "code",
   "execution_count": 1,
   "id": "6b44958a",
   "metadata": {},
   "outputs": [],
   "source": [
    "def most_frequent_character(s):\n",
    "    char_count = {}  # Create an empty dictionary to store character counts\n",
    "\n",
    "    for char in s:\n",
    "        if char in char_count:\n",
    "            char_count[char] += 1\n",
    "        else:\n",
    "            char_count[char] = 1\n",
    "\n",
    "    # Find the character with the highest count\n",
    "    most_frequent_char = max(char_count, key=char_count.get)\n",
    "    frequency = char_count[most_frequent_char]\n",
    "\n",
    "    return most_frequent_char, frequency"
   ]
  },
  {
   "cell_type": "code",
   "execution_count": 2,
   "id": "75735135",
   "metadata": {},
   "outputs": [
    {
     "name": "stdout",
     "output_type": "stream",
     "text": [
      "The most frequent character is 'l' with a frequency of 3 times.\n"
     ]
    }
   ],
   "source": [
    "# Test the function\n",
    "input_string = \"hello, world!\"\n",
    "result_char, result_frequency = most_frequent_character(input_string)\n",
    "print(f\"The most frequent character is '{result_char}' with a frequency of {result_frequency} times.\")"
   ]
  },
  {
   "cell_type": "code",
   "execution_count": null,
   "id": "c5c80f49",
   "metadata": {},
   "outputs": [],
   "source": []
  }
 ],
 "metadata": {
  "kernelspec": {
   "display_name": "Python 3 (ipykernel)",
   "language": "python",
   "name": "python3"
  },
  "language_info": {
   "codemirror_mode": {
    "name": "ipython",
    "version": 3
   },
   "file_extension": ".py",
   "mimetype": "text/x-python",
   "name": "python",
   "nbconvert_exporter": "python",
   "pygments_lexer": "ipython3",
   "version": "3.11.3"
  }
 },
 "nbformat": 4,
 "nbformat_minor": 5
}
