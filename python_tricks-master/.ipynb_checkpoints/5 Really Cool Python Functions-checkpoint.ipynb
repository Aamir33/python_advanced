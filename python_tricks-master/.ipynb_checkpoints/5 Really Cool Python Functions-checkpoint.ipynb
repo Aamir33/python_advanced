{
 "cells": [
  {
   "cell_type": "code",
   "execution_count": null,
   "id": "9e5080dd",
   "metadata": {},
   "outputs": [],
   "source": [
    "# https://www.youtube.com/watch?v=CnbgMnUCsUM"
   ]
  },
  {
   "cell_type": "markdown",
   "id": "9ec5c74f",
   "metadata": {},
   "source": [
    "# 1.  exec\n",
    "- what makes it cool that we can place txt file and download it and with the help of exec fucntion we can alter the functionality of program at run time "
   ]
  },
  {
   "cell_type": "code",
   "execution_count": null,
   "id": "e0368775",
   "metadata": {},
   "outputs": [],
   "source": [
    "exec('print(\"Hello BOB\")')"
   ]
  },
  {
   "cell_type": "code",
   "execution_count": null,
   "id": "263b47ab",
   "metadata": {},
   "outputs": [],
   "source": [
    "text:str = \"\"\"\n",
    "print(\"Hello this is example\")\n",
    "for i in range(1, 3):\n",
    "    print(i)\n",
    "print(\"I am code being exec form a string\")\n",
    "print(\"Never use exec() with the file you donot trust\")\n",
    "\"\"\""
   ]
  },
  {
   "cell_type": "code",
   "execution_count": null,
   "id": "07f4c791",
   "metadata": {},
   "outputs": [],
   "source": [
    "exec(text)"
   ]
  },
  {
   "cell_type": "code",
   "execution_count": null,
   "id": "f3097ca2",
   "metadata": {},
   "outputs": [],
   "source": [
    "user_input:str = input('Write some Code: ')\n",
    "exec(user_input)"
   ]
  },
  {
   "cell_type": "markdown",
   "id": "f91906a1",
   "metadata": {},
   "source": [
    "# 2.  partial\n",
    "- We can use fucntions over and over again wihout having the supply the same arguments "
   ]
  },
  {
   "cell_type": "code",
   "execution_count": null,
   "id": "4dd859d0",
   "metadata": {},
   "outputs": [],
   "source": [
    "from functools import partial"
   ]
  },
  {
   "cell_type": "code",
   "execution_count": null,
   "id": "df1435f6",
   "metadata": {},
   "outputs": [],
   "source": [
    "def specifications(color:str, name:str, amount:int)->None:\n",
    "    print(f\"Specs: {color=}, {name=}, {amount=}.\")\n",
    "specify_name: partial = partial(specifications, 'Green', amount=10)"
   ]
  },
  {
   "cell_type": "code",
   "execution_count": null,
   "id": "404cfe08",
   "metadata": {},
   "outputs": [],
   "source": [
    "specify_name('BoB')"
   ]
  },
  {
   "cell_type": "code",
   "execution_count": null,
   "id": "1abede69",
   "metadata": {},
   "outputs": [],
   "source": [
    "specify_name('Amanda')"
   ]
  },
  {
   "cell_type": "markdown",
   "id": "07c2a1b6",
   "metadata": {},
   "source": [
    "# 3. permutations, combinations_with_replacement"
   ]
  },
  {
   "cell_type": "code",
   "execution_count": 1,
   "id": "04f820cc",
   "metadata": {},
   "outputs": [],
   "source": [
    "from itertools import permutations, combinations_with_replacement"
   ]
  },
  {
   "cell_type": "code",
   "execution_count": 14,
   "id": "b7763723",
   "metadata": {},
   "outputs": [],
   "source": [
    "def main() -> None:\n",
    "    perms:permutations[str] = permutations(['A', 'B', 'C'])\n",
    "    for a,b,c in tuple(perms):\n",
    "        print(a,b,c)"
   ]
  },
  {
   "cell_type": "code",
   "execution_count": 15,
   "id": "5b4b3867",
   "metadata": {},
   "outputs": [
    {
     "name": "stdout",
     "output_type": "stream",
     "text": [
      "A B C\n",
      "A C B\n",
      "B A C\n",
      "B C A\n",
      "C A B\n",
      "C B A\n"
     ]
    }
   ],
   "source": [
    "main()"
   ]
  },
  {
   "cell_type": "code",
   "execution_count": 37,
   "id": "489ba0a9",
   "metadata": {},
   "outputs": [],
   "source": [
    "def main() -> None:\n",
    "    str_combs:combinations_with_replacement[str] = combinations_with_replacement(['A', 'B', 'C'],3)\n",
    "    for a,b,c in tuple(str_combs):\n",
    "        print(a,b,c)"
   ]
  },
  {
   "cell_type": "code",
   "execution_count": 38,
   "id": "d39bf75c",
   "metadata": {},
   "outputs": [
    {
     "name": "stdout",
     "output_type": "stream",
     "text": [
      "A A A\n",
      "A A B\n",
      "A A C\n",
      "A B B\n",
      "A B C\n",
      "A C C\n",
      "B B B\n",
      "B B C\n",
      "B C C\n",
      "C C C\n"
     ]
    }
   ],
   "source": [
    "main()"
   ]
  },
  {
   "cell_type": "markdown",
   "id": "157081fd",
   "metadata": {},
   "source": [
    "# 4. choice, choices, sample"
   ]
  },
  {
   "cell_type": "code",
   "execution_count": 96,
   "id": "e12648f3",
   "metadata": {},
   "outputs": [],
   "source": [
    "from random import choice, choices, sample"
   ]
  },
  {
   "cell_type": "code",
   "execution_count": 97,
   "id": "1776d9f2",
   "metadata": {},
   "outputs": [],
   "source": [
    "names: list[str] = ['Aamir', 'Aakif', 'Arsalan', 'Ahsan', 'Wasim', 'Bazu', 'Ibrahim', 'Irah']\n",
    "winner: str = choice(names)"
   ]
  },
  {
   "cell_type": "code",
   "execution_count": 98,
   "id": "dc306d0a",
   "metadata": {},
   "outputs": [
    {
     "data": {
      "text/plain": [
       "'Bazu'"
      ]
     },
     "execution_count": 98,
     "metadata": {},
     "output_type": "execute_result"
    }
   ],
   "source": [
    "winner"
   ]
  },
  {
   "cell_type": "code",
   "execution_count": 99,
   "id": "50e5c4d6",
   "metadata": {},
   "outputs": [],
   "source": [
    "winners: list[str] = sample(names, k=2)"
   ]
  },
  {
   "cell_type": "code",
   "execution_count": 100,
   "id": "e625680b",
   "metadata": {},
   "outputs": [
    {
     "data": {
      "text/plain": [
       "['Wasim', 'Bazu']"
      ]
     },
     "execution_count": 100,
     "metadata": {},
     "output_type": "execute_result"
    }
   ],
   "source": [
    "winners"
   ]
  },
  {
   "cell_type": "code",
   "execution_count": 101,
   "id": "1cf284c0",
   "metadata": {},
   "outputs": [],
   "source": [
    "random_names: list[str] = choices(names, k=2)"
   ]
  },
  {
   "cell_type": "code",
   "execution_count": 102,
   "id": "f97f5299",
   "metadata": {},
   "outputs": [
    {
     "data": {
      "text/plain": [
       "['Ahsan', 'Aakif']"
      ]
     },
     "execution_count": 102,
     "metadata": {},
     "output_type": "execute_result"
    }
   ],
   "source": [
    "random_names"
   ]
  },
  {
   "cell_type": "markdown",
   "id": "95eec1b0",
   "metadata": {},
   "source": [
    "# 5. filedialog"
   ]
  },
  {
   "cell_type": "code",
   "execution_count": 104,
   "id": "14506433",
   "metadata": {},
   "outputs": [],
   "source": [
    "from tkinter import filedialog as fd"
   ]
  },
  {
   "cell_type": "code",
   "execution_count": null,
   "id": "8887458a",
   "metadata": {},
   "outputs": [],
   "source": [
    "# path: str = fd.askopenfilename(title='Select a file')"
   ]
  },
  {
   "cell_type": "code",
   "execution_count": null,
   "id": "b30de087",
   "metadata": {},
   "outputs": [],
   "source": []
  }
 ],
 "metadata": {
  "kernelspec": {
   "display_name": "Python 3 (ipykernel)",
   "language": "python",
   "name": "python3"
  },
  "language_info": {
   "codemirror_mode": {
    "name": "ipython",
    "version": 3
   },
   "file_extension": ".py",
   "mimetype": "text/x-python",
   "name": "python",
   "nbconvert_exporter": "python",
   "pygments_lexer": "ipython3",
   "version": "3.11.3"
  }
 },
 "nbformat": 4,
 "nbformat_minor": 5
}
