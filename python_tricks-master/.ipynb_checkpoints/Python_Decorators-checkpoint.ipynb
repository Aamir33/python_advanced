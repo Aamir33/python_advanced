{
 "cells": [
  {
   "cell_type": "markdown",
   "id": "2cd3ea7a",
   "metadata": {},
   "source": [
    "- https://www.youtube.com/watch?v=JgxCY-tbWHA"
   ]
  },
  {
   "cell_type": "code",
   "execution_count": null,
   "id": "357048c7",
   "metadata": {},
   "outputs": [],
   "source": [
    "import time\n",
    "\n",
    "def timer(func):\n",
    "    def wrapper(*args, **kwargs):\n",
    "        start_time = time.time()\n",
    "        result = func(*args, **kwargs) #call the decorator function **args means any number of positional aruguments, **kwargs any number of keyword argumnets  \n",
    "        end_time = time.time()\n",
    "        print(f\"Function {func.__name__!r} took: {end_time - start_time:.4f} sec\")\n",
    "        return result\n",
    "    return wrapper"
   ]
  },
  {
   "cell_type": "code",
   "execution_count": null,
   "id": "56097633",
   "metadata": {},
   "outputs": [],
   "source": [
    "@timer\n",
    "def example_function(n):\n",
    "    return f\"The sum is {sum(range(n))}\""
   ]
  },
  {
   "cell_type": "code",
   "execution_count": null,
   "id": "46ec1d45",
   "metadata": {},
   "outputs": [],
   "source": [
    "print(example_function(1000000))"
   ]
  },
  {
   "cell_type": "code",
   "execution_count": null,
   "id": "0ab56f7c",
   "metadata": {},
   "outputs": [],
   "source": [
    "# the above decorator can be written as remove the @timer form example_function\n",
    "example_function = timer(example_function)\n",
    "print(example_function(1000000))"
   ]
  },
  {
   "cell_type": "code",
   "execution_count": null,
   "id": "708102e1",
   "metadata": {},
   "outputs": [],
   "source": []
  },
  {
   "cell_type": "code",
   "execution_count": null,
   "id": "05bfa007",
   "metadata": {},
   "outputs": [],
   "source": []
  },
  {
   "cell_type": "code",
   "execution_count": null,
   "id": "fa5bb569",
   "metadata": {},
   "outputs": [],
   "source": []
  }
 ],
 "metadata": {
  "kernelspec": {
   "display_name": "Python 3 (ipykernel)",
   "language": "python",
   "name": "python3"
  },
  "language_info": {
   "codemirror_mode": {
    "name": "ipython",
    "version": 3
   },
   "file_extension": ".py",
   "mimetype": "text/x-python",
   "name": "python",
   "nbconvert_exporter": "python",
   "pygments_lexer": "ipython3",
   "version": "3.11.3"
  }
 },
 "nbformat": 4,
 "nbformat_minor": 5
}
