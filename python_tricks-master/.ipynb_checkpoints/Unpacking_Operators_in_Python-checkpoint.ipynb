{
 "cells": [
  {
   "cell_type": "code",
   "execution_count": 7,
   "id": "4740d165",
   "metadata": {},
   "outputs": [],
   "source": [
    "def sum_1(a,b,c)->int:\n",
    "    return a+b+c"
   ]
  },
  {
   "cell_type": "code",
   "execution_count": 8,
   "id": "4290d01e",
   "metadata": {},
   "outputs": [],
   "source": [
    "values = [1,2,3]"
   ]
  },
  {
   "cell_type": "code",
   "execution_count": 9,
   "id": "85e5c991",
   "metadata": {},
   "outputs": [
    {
     "data": {
      "text/plain": [
       "6"
      ]
     },
     "execution_count": 9,
     "metadata": {},
     "output_type": "execute_result"
    }
   ],
   "source": [
    "sum_1(*values)  # it is unpaking the values "
   ]
  },
  {
   "cell_type": "code",
   "execution_count": 34,
   "id": "d250defc",
   "metadata": {},
   "outputs": [],
   "source": [
    "# tuple Unpacking \n",
    "def my_sum(*args:int) -> int:\n",
    "    result:int = 0\n",
    "    for parm in args:\n",
    "        result += parm\n",
    "    return result "
   ]
  },
  {
   "cell_type": "code",
   "execution_count": 35,
   "id": "4a317292",
   "metadata": {},
   "outputs": [
    {
     "data": {
      "text/plain": [
       "19"
      ]
     },
     "execution_count": 35,
     "metadata": {},
     "output_type": "execute_result"
    }
   ],
   "source": [
    "my_sum(1,2,3,6,7)"
   ]
  },
  {
   "cell_type": "code",
   "execution_count": 46,
   "id": "3191f4db",
   "metadata": {},
   "outputs": [],
   "source": [
    "# Dictionary unpacking\n",
    "def my_print(name, age, Job):\n",
    "    print(f'{name} is {age} years old and works as a {Job}')"
   ]
  },
  {
   "cell_type": "code",
   "execution_count": 47,
   "id": "2c26a34a",
   "metadata": {},
   "outputs": [],
   "source": [
    "my_dict = {'name':'Ibu', 'age': 10, 'Job':'Programming'}"
   ]
  },
  {
   "cell_type": "code",
   "execution_count": 48,
   "id": "1cc585ad",
   "metadata": {},
   "outputs": [
    {
     "name": "stdout",
     "output_type": "stream",
     "text": [
      "Ibu is 10 years old and works as a Programming\n"
     ]
    }
   ],
   "source": [
    "my_print(**my_dict)"
   ]
  },
  {
   "cell_type": "code",
   "execution_count": 50,
   "id": "aeed793f",
   "metadata": {},
   "outputs": [],
   "source": [
    "my_dict1 = {'name':'Ibu', 'age': 10, 'Job':'Programming'}\n",
    "my_dict2 = {'height':189, 'weight': 203.3}"
   ]
  },
  {
   "cell_type": "code",
   "execution_count": 58,
   "id": "5e51ac09",
   "metadata": {},
   "outputs": [],
   "source": [
    "combined = {**my_dict1, **my_dict2} # my_dict1 | my_dict2"
   ]
  },
  {
   "cell_type": "code",
   "execution_count": 59,
   "id": "2eea57b5",
   "metadata": {},
   "outputs": [
    {
     "data": {
      "text/plain": [
       "{'name': 'Ibu',\n",
       " 'age': 10,\n",
       " 'Job': 'Programming',\n",
       " 'height': 189,\n",
       " 'weight': 203.3}"
      ]
     },
     "execution_count": 59,
     "metadata": {},
     "output_type": "execute_result"
    }
   ],
   "source": [
    "combined"
   ]
  },
  {
   "cell_type": "code",
   "execution_count": 62,
   "id": "f699debb",
   "metadata": {},
   "outputs": [],
   "source": [
    "def my_function(**kwargs)-> None:\n",
    "    print('The following parameters were passsed:')\n",
    "    for key, value in kwargs.items():\n",
    "        print(f'Parameter Name = {key}, parameter Value: {value}')"
   ]
  },
  {
   "cell_type": "code",
   "execution_count": 63,
   "id": "e1e68c93",
   "metadata": {},
   "outputs": [
    {
     "name": "stdout",
     "output_type": "stream",
     "text": [
      "The following parameters were passsed:\n",
      "Parameter Name = name, parameter Value: Ibu\n",
      "Parameter Name = age, parameter Value: 10\n",
      "Parameter Name = Job, parameter Value: Programming\n"
     ]
    }
   ],
   "source": [
    "my_function(**my_dict1)"
   ]
  },
  {
   "cell_type": "code",
   "execution_count": null,
   "id": "37452541",
   "metadata": {},
   "outputs": [],
   "source": []
  }
 ],
 "metadata": {
  "kernelspec": {
   "display_name": "Python 3 (ipykernel)",
   "language": "python",
   "name": "python3"
  },
  "language_info": {
   "codemirror_mode": {
    "name": "ipython",
    "version": 3
   },
   "file_extension": ".py",
   "mimetype": "text/x-python",
   "name": "python",
   "nbconvert_exporter": "python",
   "pygments_lexer": "ipython3",
   "version": "3.11.3"
  }
 },
 "nbformat": 4,
 "nbformat_minor": 5
}
