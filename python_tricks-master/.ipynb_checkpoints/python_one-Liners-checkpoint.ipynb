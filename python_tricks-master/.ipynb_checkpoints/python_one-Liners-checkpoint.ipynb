{
 "cells": [
  {
   "cell_type": "code",
   "execution_count": 14,
   "id": "3e3b2f2d",
   "metadata": {},
   "outputs": [
    {
     "data": {
      "text/plain": [
       "'!boB olleH'"
      ]
     },
     "execution_count": 14,
     "metadata": {},
     "output_type": "execute_result"
    }
   ],
   "source": [
    "# https://www.youtube.com/watch?v=kfZOrjVXSms\n",
    "# reverse string will get the string \n",
    "phrase : str = 'Hello Bob!'\n",
    "phrase[::-1]"
   ]
  },
  {
   "cell_type": "code",
   "execution_count": 17,
   "id": "b395d879",
   "metadata": {},
   "outputs": [
    {
     "data": {
      "text/plain": [
       "'!boB olleH'"
      ]
     },
     "execution_count": 17,
     "metadata": {},
     "output_type": "execute_result"
    }
   ],
   "source": [
    "''.join(reversed(phrase))"
   ]
  },
  {
   "cell_type": "code",
   "execution_count": null,
   "id": "781c0fda",
   "metadata": {},
   "outputs": [],
   "source": []
  },
  {
   "cell_type": "code",
   "execution_count": null,
   "id": "04a4c6bc",
   "metadata": {},
   "outputs": [],
   "source": []
  }
 ],
 "metadata": {
  "kernelspec": {
   "display_name": "Python 3 (ipykernel)",
   "language": "python",
   "name": "python3"
  },
  "language_info": {
   "codemirror_mode": {
    "name": "ipython",
    "version": 3
   },
   "file_extension": ".py",
   "mimetype": "text/x-python",
   "name": "python",
   "nbconvert_exporter": "python",
   "pygments_lexer": "ipython3",
   "version": "3.11.3"
  }
 },
 "nbformat": 4,
 "nbformat_minor": 5
}
