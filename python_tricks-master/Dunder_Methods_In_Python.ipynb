{
 "cells": [
  {
   "cell_type": "markdown",
   "id": "c7fd23c1",
   "metadata": {},
   "source": [
    "# 1.  _ _eq_ _ "
   ]
  },
  {
   "cell_type": "code",
   "execution_count": null,
   "id": "41ee224b",
   "metadata": {},
   "outputs": [],
   "source": [
    "class Fruit:\n",
    "    def __init__(self, *,name: str, grams: float) -> None:   # * means force the user to pass keyword argumnets \n",
    "        self.name = name\n",
    "        self.grams = grams\n",
    "    \n",
    "    def __eq__(self,other) -> bool:\n",
    "        return self.__dict__ == other.__dict__\n",
    "        \n",
    "def main() -> None:\n",
    "    f1: Fruit = Fruit(name='Apple', grams=100)\n",
    "    f2: Fruit = Fruit(name='Orange', grams=900.40)\n",
    "    f3: Fruit = Fruit(name='Apple', grams=100)\n",
    "    print(f1 == f2)\n",
    "    print(f1 == f3) ## result will be true  because we manipulated __eq__ and add the extract what it needs to compare \n",
    "main()"
   ]
  },
  {
   "cell_type": "markdown",
   "id": "fdac0b91",
   "metadata": {},
   "source": [
    "# 2.  _ _format_ _ "
   ]
  },
  {
   "cell_type": "code",
   "execution_count": null,
   "id": "a28d4e3d",
   "metadata": {},
   "outputs": [],
   "source": [
    "class Fruit:\n",
    "    def __init__(self, *,name: str, grams: float) -> None:   # * means force the user to pass keyword argumnets \n",
    "        self.name = name\n",
    "        self.grams = grams\n",
    "    \n",
    "    def __format__(self,format_spec:str) -> str:\n",
    "        match format_spec:\n",
    "            case 'kg':\n",
    "                return f'{self.grams / 1000:.2f} kg'\n",
    "            case 'lb':\n",
    "                return f'{self.grams / 453.5924:.2f} lb'\n",
    "            case 'desc':\n",
    "                return f'{self.grams}g of {self.name}'\n",
    "            case _:\n",
    "                return ValueError('unknow format specifier..')\n",
    "        \n",
    "def main() -> None:\n",
    "    apple: Fruit = Fruit(name='Apple', grams=2500)\n",
    "    print(f'{apple:lb}')\n",
    "    print(f'{apple:kg}')\n",
    "    print(f'{apple:desc}')\n",
    "main()"
   ]
  },
  {
   "cell_type": "markdown",
   "id": "2e101122",
   "metadata": {},
   "source": [
    "# 3.  _ _or_ _ "
   ]
  },
  {
   "cell_type": "code",
   "execution_count": null,
   "id": "199e16ae",
   "metadata": {},
   "outputs": [],
   "source": [
    "from typing import Self\n",
    "class Fruit:\n",
    "    def __init__(self, *, name: str, grams: float) -> None:   # * means force the user to pass keyword argumnets \n",
    "        self.name = name\n",
    "        self.grams = grams\n",
    "    \n",
    "    def __or__(self, other:Self)-> Self:\n",
    "        new_name: str = f'{self.name} & {other.name}'\n",
    "        new_grams: float = self.grams + other.grams\n",
    "        return Fruit(name=new_name, grams= new_grams)\n",
    "    \n",
    "    def __repr__(self) -> str:\n",
    "        return f'Fruit(name=\"{self.name}\", grams={self.grams})'\n",
    "        \n",
    "def main() -> None:\n",
    "    apple: Fruit = Fruit(name='Apple', grams=100)\n",
    "    orange: Fruit = Fruit(name='Orange', grams=900.40)\n",
    "    banana: Fruit = Fruit(name='Banana', grams=100)\n",
    "    combined: Fruit = apple | orange\n",
    "    print(combined)\n",
    "main()"
   ]
  },
  {
   "cell_type": "markdown",
   "id": "c90c02b6",
   "metadata": {},
   "source": [
    "# 4.  _ _str_ _ and   _ _repr_ _  "
   ]
  },
  {
   "cell_type": "code",
   "execution_count": null,
   "id": "899674ae",
   "metadata": {},
   "outputs": [],
   "source": [
    "from typing import Self\n",
    "class Fruit:\n",
    "    def __init__(self, *, name: str, grams: float) -> None:   # * means force the user to pass keyword argumnets \n",
    "        self.name = name\n",
    "        self.grams = grams\n",
    "    \n",
    "    def __str__(self) -> str:\n",
    "        return f'{self.name} ({self.grams}g)'\n",
    "    \n",
    "    def __repr__(self) -> str:\n",
    "        return f'Fruit(name=\"{self.name}\", grams={self.grams})'\n",
    "        \n",
    "def main() -> None:\n",
    "    fruits: list[Fruit] = [Fruit(name='Apple', grams=2500),\n",
    "                    Fruit(name='Orange', grams=900.40),\n",
    "                    Fruit(name='Banana', grams=1500)]\n",
    "    for fruit in fruits:\n",
    "        print(f'str: {fruit}')\n",
    "        print(f'repr: {repr(fruit)}')\n",
    "main()"
   ]
  },
  {
   "cell_type": "markdown",
   "id": "1784a186",
   "metadata": {},
   "source": [
    "# 5. _ _getitem _ _ Data Class "
   ]
  },
  {
   "cell_type": "code",
   "execution_count": 10,
   "id": "5fd41773",
   "metadata": {},
   "outputs": [
    {
     "name": "stdout",
     "output_type": "stream",
     "text": [
      "Total: 2\n",
      "Matches: [Fruit(name='Orange', grams=1000), Fruit(name='Orange', grams=9001)]\n"
     ]
    }
   ],
   "source": [
    "from typing import Self\n",
    "from dataclasses import dataclass\n",
    "\n",
    "@dataclass(kw_only= True)\n",
    "class Fruit:\n",
    "    name: str\n",
    "    grams: float\n",
    "\n",
    "class Basket:\n",
    "    def __init__(self, *, fruits: list[Fruit]) -> None:\n",
    "        self.fruits = fruits\n",
    "    \n",
    "    def __getitem__(self, item:str) ->list[Fruit]:\n",
    "        return [fruit for fruit in self.fruits if fruit.name.lower() == item]\n",
    "        \n",
    "def main() -> None:\n",
    "    fruits: list[Fruit] = [Fruit(name='Apple', grams=2500),\n",
    "                          Fruit(name='Apple', grams=50),\n",
    "                          Fruit(name='Orange', grams=1000),\n",
    "                          Fruit(name='Orange', grams=9001),\n",
    "                          Fruit(name='Banana', grams=1500),\n",
    "                          ]\n",
    "    basket: Basket = Basket(fruits=fruits)\n",
    "    matches: List[Fruit] = basket['orange']\n",
    "    print(f'Total: {len(matches)}')\n",
    "    print(f'Matches: {matches}')\n",
    "main()"
   ]
  },
  {
   "cell_type": "code",
   "execution_count": null,
   "id": "d7d97fa8",
   "metadata": {},
   "outputs": [],
   "source": []
  },
  {
   "cell_type": "code",
   "execution_count": null,
   "id": "1f3a2886",
   "metadata": {},
   "outputs": [],
   "source": []
  },
  {
   "cell_type": "code",
   "execution_count": null,
   "id": "5bc5a34e",
   "metadata": {},
   "outputs": [],
   "source": []
  }
 ],
 "metadata": {
  "kernelspec": {
   "display_name": "Python 3 (ipykernel)",
   "language": "python",
   "name": "python3"
  },
  "language_info": {
   "codemirror_mode": {
    "name": "ipython",
    "version": 3
   },
   "file_extension": ".py",
   "mimetype": "text/x-python",
   "name": "python",
   "nbconvert_exporter": "python",
   "pygments_lexer": "ipython3",
   "version": "3.11.3"
  }
 },
 "nbformat": 4,
 "nbformat_minor": 5
}
