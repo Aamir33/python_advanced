{
 "cells": [
  {
   "cell_type": "code",
   "execution_count": 1,
   "id": "54b53229",
   "metadata": {},
   "outputs": [],
   "source": [
    "#https://www.youtube.com/watch?v=8CM1UMV-tNQ"
   ]
  },
  {
   "cell_type": "code",
   "execution_count": 8,
   "id": "b0ddb86c",
   "metadata": {},
   "outputs": [],
   "source": [
    "import time\n",
    "from typing import Callable"
   ]
  },
  {
   "cell_type": "code",
   "execution_count": 11,
   "id": "e74e210b",
   "metadata": {},
   "outputs": [],
   "source": [
    "def pass_stmt()->None:\n",
    "    for i in range(10_000_000):\n",
    "        pass\n",
    "\n",
    "def ellipses()->None:\n",
    "    for i in range(10_000_000):\n",
    "        ..."
   ]
  },
  {
   "cell_type": "code",
   "execution_count": 12,
   "id": "01dc2bce",
   "metadata": {},
   "outputs": [],
   "source": [
    "def get_time(func:Callable) ->None:\n",
    "    start_time: float = time.perf_counter()\n",
    "    func()\n",
    "    end_time: float = time.perf_counter()\n",
    "    print(f'\"{func.__name__}()\" took: {end_time - start_time:.5f} seconds')"
   ]
  },
  {
   "cell_type": "code",
   "execution_count": 14,
   "id": "4462e78b",
   "metadata": {},
   "outputs": [
    {
     "name": "stdout",
     "output_type": "stream",
     "text": [
      "\"ellipses()\" took: 0.17445 seconds\n",
      "\"ellipses()\" took: 0.16968 seconds\n",
      "\"pass_stmt()\" took: 0.17137 seconds\n"
     ]
    }
   ],
   "source": [
    "get_time(ellipses) #warmpup\n",
    "get_time(ellipses)\n",
    "get_time(pass_stmt)"
   ]
  },
  {
   "cell_type": "code",
   "execution_count": null,
   "id": "94000c0a",
   "metadata": {},
   "outputs": [],
   "source": []
  },
  {
   "cell_type": "code",
   "execution_count": null,
   "id": "38c7bc86",
   "metadata": {},
   "outputs": [],
   "source": []
  }
 ],
 "metadata": {
  "kernelspec": {
   "display_name": "Python 3 (ipykernel)",
   "language": "python",
   "name": "python3"
  },
  "language_info": {
   "codemirror_mode": {
    "name": "ipython",
    "version": 3
   },
   "file_extension": ".py",
   "mimetype": "text/x-python",
   "name": "python",
   "nbconvert_exporter": "python",
   "pygments_lexer": "ipython3",
   "version": "3.11.3"
  }
 },
 "nbformat": 4,
 "nbformat_minor": 5
}
