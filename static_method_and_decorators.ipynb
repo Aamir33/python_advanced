{
 "cells": [
  {
   "cell_type": "code",
   "execution_count": 1,
   "id": "6acd2a67",
   "metadata": {},
   "outputs": [],
   "source": [
    "#https://www.geeksforgeeks.org/class-method-vs-static-method-python/"
   ]
  },
  {
   "cell_type": "markdown",
   "id": "2755bf0b",
   "metadata": {},
   "source": [
    "### In Python, functions can be categorized into different types based on how they are defined and used. Three common types of functions are:\n",
    "\n",
    "# 1. Instance Methods:\n",
    "\n",
    "- These are the most common type of methods in Python classes.\n",
    "- They take the instance as the first parameter (self by convention) and operate on the instance's attributes."
   ]
  },
  {
   "cell_type": "code",
   "execution_count": 2,
   "id": "ab3f2500",
   "metadata": {},
   "outputs": [],
   "source": [
    "class MyClass:\n",
    "    def instance_method(self):\n",
    "        # Do something with self\n",
    "        print(\"This is an instance method.\")"
   ]
  },
  {
   "cell_type": "markdown",
   "id": "9473c143",
   "metadata": {},
   "source": [
    "# 2. Class Methods:\n",
    "\n",
    "- These methods are bound to the class rather than an instance of the class.\n",
    "- They are defined using the @classmethod decorator and take the class itself as the first parameter (cls by convention).\n",
    "- It can access or modify class-specific variables and can be called on the class itself or on any instance of the class. \n",
    "- Class methods are defined using the @classmethod decorator.\n"
   ]
  },
  {
   "cell_type": "code",
   "execution_count": 1,
   "id": "4d26208a",
   "metadata": {},
   "outputs": [],
   "source": [
    "class MyClass:\n",
    "    @classmethod\n",
    "    def class_method(cls):\n",
    "        # Do something with the class\n",
    "        print(\"This is a class method.\")"
   ]
  },
  {
   "cell_type": "code",
   "execution_count": 2,
   "id": "196405b9",
   "metadata": {},
   "outputs": [],
   "source": [
    "class MyClass:\n",
    "    class_variable = 0  # Class variable\n",
    "\n",
    "    def __init__(self, x):\n",
    "        self.x = x  # Instance variable\n",
    "\n",
    "    @classmethod\n",
    "    def class_method(cls, y):\n",
    "        cls.class_variable += y\n",
    "        print(\"Class method called\")\n",
    "        print(\"Class variable value:\", cls.class_variable)\n",
    "# Creating instances of MyClass\n",
    "obj1 = MyClass(5)\n",
    "obj2 = MyClass(10)"
   ]
  },
  {
   "cell_type": "code",
   "execution_count": 3,
   "id": "f4c46495",
   "metadata": {},
   "outputs": [
    {
     "name": "stdout",
     "output_type": "stream",
     "text": [
      "Class method called\n",
      "Class variable value: 20\n"
     ]
    }
   ],
   "source": [
    "# Calling the class method on the class itself\n",
    "MyClass.class_method(20)"
   ]
  },
  {
   "cell_type": "code",
   "execution_count": 4,
   "id": "c9f412fc",
   "metadata": {},
   "outputs": [
    {
     "name": "stdout",
     "output_type": "stream",
     "text": [
      "Class method called\n",
      "Class variable value: 35\n"
     ]
    }
   ],
   "source": [
    "# Calling the class method on an instance of the class\n",
    "obj1.class_method(15)"
   ]
  },
  {
   "cell_type": "code",
   "execution_count": null,
   "id": "ef1bb6d9",
   "metadata": {},
   "outputs": [],
   "source": [
    "obj2.class_method(25)"
   ]
  },
  {
   "cell_type": "markdown",
   "id": "2288f934",
   "metadata": {},
   "source": [
    "##### In this example:\n",
    "\n",
    "- class_variable is a class variable shared among all instances of the class.\n",
    "   - __init__ is the constructor method initializing instance variable x.\n",
    "   - class_method is a class method modifying the class variable class_variable and printing its value.\n",
    "   - You can see that the class method class_method can be called both on the class itself (MyClass.class_method()) and on instances of the class (obj1.class_method() and obj2.class_method()). When called, it modifies the class variable class_variable and prints its updated value."
   ]
  },
  {
   "cell_type": "markdown",
   "id": "f581d97e",
   "metadata": {},
   "source": [
    "# 3. Static Methods:\n",
    "\n",
    "- These methods are not bound to the instance or the class and do not have access to self or cls.\n",
    "- They are defined using the @staticmethod decorator."
   ]
  },
  {
   "cell_type": "code",
   "execution_count": 4,
   "id": "9ec31b60",
   "metadata": {},
   "outputs": [],
   "source": [
    "class MyClass:\n",
    "    @staticmethod\n",
    "    def static_method():\n",
    "        # Do something without access to self or cls\n",
    "        print(\"This is a static method.\")"
   ]
  },
  {
   "cell_type": "markdown",
   "id": "d97ba416",
   "metadata": {},
   "source": [
    "#### Each type of method serves a different purpose:\n",
    "\n",
    "- Instance methods are used to operate on the instance of a class and have access to the instance's attributes.\n",
    "- Class methods are often used for operations that involve the class itself, such as accessing class-level variables or creating class instances.\n",
    "- Static methods are used when a method doesn't depend on the instance or the class. They are similar to regular functions but are defined within a class for organization purposes.\n",
    "\n",
    "It's worth noting that these types of methods are specific to object-oriented programming in Python and are associated with classes. Python also has regular functions that are not tied to any class, and lambda functions, which are a concise way to create anonymous functions."
   ]
  },
  {
   "cell_type": "code",
   "execution_count": 5,
   "id": "7378eaf1",
   "metadata": {},
   "outputs": [
    {
     "name": "stdout",
     "output_type": "stream",
     "text": [
      "21\n",
      "24\n",
      "True\n"
     ]
    }
   ],
   "source": [
    "# Python program to demonstrate\n",
    "# use of class method and static method.\n",
    "from datetime import date\n",
    "\n",
    "class Person:\n",
    "    def __init__(self, name, age):\n",
    "        self.name = name\n",
    "        self.age = age\n",
    " \n",
    "    # a class method to create a Person object by birth year.\n",
    "    @classmethod\n",
    "    def fromBirthYear(cls, name, year):\n",
    "        return cls(name, date.today().year - year)\n",
    " \n",
    "    # a static method to check if a Person is adult or not.\n",
    "    @staticmethod\n",
    "    def isAdult(age):\n",
    "        return age > 18\n",
    " \n",
    " \n",
    "person1 = Person('mayank', 21)\n",
    "person2 = Person.fromBirthYear('mayank', 2000)\n",
    " \n",
    "print(person1.age)\n",
    "print(person2.age)\n",
    " \n",
    "# print the result\n",
    "print(Person.isAdult(22))"
   ]
  },
  {
   "cell_type": "markdown",
   "id": "622f61f7",
   "metadata": {},
   "source": [
    "# Q22: What is the difference between @staticmethod and @classmethod in Python?\n",
    "\n",
    "A: Both @staticmethod and @classmethod are used to define methods in Python that can be\n",
    "called on the class itself, rather than on an instance of the class. The main difference between the\n",
    "two is that @staticmethod does not receive any special first argument, while @classmethod\n",
    "receives the class itself as its first argument. This means that @classmethod can access class-level\n",
    "data and call other class methods, while @staticmethod cannot.\n"
   ]
  },
  {
   "cell_type": "code",
   "execution_count": null,
   "id": "9a8715c7",
   "metadata": {},
   "outputs": [],
   "source": []
  },
  {
   "cell_type": "code",
   "execution_count": null,
   "id": "e5b339f3",
   "metadata": {},
   "outputs": [],
   "source": []
  }
 ],
 "metadata": {
  "kernelspec": {
   "display_name": "Python 3 (ipykernel)",
   "language": "python",
   "name": "python3"
  },
  "language_info": {
   "codemirror_mode": {
    "name": "ipython",
    "version": 3
   },
   "file_extension": ".py",
   "mimetype": "text/x-python",
   "name": "python",
   "nbconvert_exporter": "python",
   "pygments_lexer": "ipython3",
   "version": "3.11.3"
  }
 },
 "nbformat": 4,
 "nbformat_minor": 5
}
