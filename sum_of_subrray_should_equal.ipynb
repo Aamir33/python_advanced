{
 "cells": [
  {
   "cell_type": "code",
   "execution_count": 1,
   "id": "b1f960cd",
   "metadata": {},
   "outputs": [],
   "source": [
    "array1 = [1,3,2,2]"
   ]
  },
  {
   "cell_type": "code",
   "execution_count": 2,
   "id": "a53170ba",
   "metadata": {},
   "outputs": [],
   "source": [
    "arrayIndex =len(array1)//2"
   ]
  },
  {
   "cell_type": "code",
   "execution_count": 3,
   "id": "029cdd1b",
   "metadata": {},
   "outputs": [],
   "source": [
    "subarray1 = array1[:arrayIndex]\n",
    "subarray2 = array1[arrayIndex:]"
   ]
  },
  {
   "cell_type": "code",
   "execution_count": 4,
   "id": "ad878387",
   "metadata": {},
   "outputs": [
    {
     "data": {
      "text/plain": [
       "(4, 4)"
      ]
     },
     "execution_count": 4,
     "metadata": {},
     "output_type": "execute_result"
    }
   ],
   "source": [
    "sum(subarray1), sum(subarray2)"
   ]
  },
  {
   "cell_type": "code",
   "execution_count": 5,
   "id": "b702e4d2",
   "metadata": {},
   "outputs": [
    {
     "data": {
      "text/plain": [
       "[1, 3, 2, 2]"
      ]
     },
     "execution_count": 5,
     "metadata": {},
     "output_type": "execute_result"
    }
   ],
   "source": [
    "array1"
   ]
  },
  {
   "cell_type": "code",
   "execution_count": 18,
   "id": "5071d03d",
   "metadata": {},
   "outputs": [],
   "source": [
    "def split_array_equal_sum(arr):\n",
    "    total_sum = sum(arr)\n",
    "    current_sum = 0\n",
    "    for i, num in enumerate(arr):\n",
    "        current_sum += num\n",
    "        if current_sum == total_sum - current_sum:\n",
    "            return arr[:i+1], arr[i+1:]\n",
    "\n",
    "    return None, None"
   ]
  },
  {
   "cell_type": "code",
   "execution_count": 21,
   "id": "855816e0",
   "metadata": {},
   "outputs": [
    {
     "name": "stdout",
     "output_type": "stream",
     "text": [
      "Array 1: [1, 2]\n",
      "Array 2: [1, 2]\n"
     ]
    }
   ],
   "source": [
    "original_array = [2, 3, 2, 1]\n",
    "original_array = [1, 2, 1, 2]\n",
    "array1, array2 = split_array_equal_sum(original_array)\n",
    "if array1 is not None:\n",
    "    print(\"Array 1:\", array1)\n",
    "    print(\"Array 2:\", array2)\n",
    "else:\n",
    "    print(\"Cannot split the array into two subarrays with equal sum.\")\n"
   ]
  },
  {
   "cell_type": "code",
   "execution_count": 22,
   "id": "53361cf7",
   "metadata": {},
   "outputs": [
    {
     "data": {
      "text/plain": [
       "[1, 2]"
      ]
     },
     "execution_count": 22,
     "metadata": {},
     "output_type": "execute_result"
    }
   ],
   "source": [
    "array1"
   ]
  },
  {
   "cell_type": "raw",
   "id": "4a1e2916",
   "metadata": {},
   "source": [
    "--- More Good approch 1"
   ]
  },
  {
   "cell_type": "code",
   "execution_count": 21,
   "id": "2629ea55",
   "metadata": {},
   "outputs": [],
   "source": [
    "def check_sub_array_sum(arr):\n",
    "    splitPoint =len(arr)//2\n",
    "    arr[:splitPoint], arr[splitPoint:]\n",
    "    return sum(arr[:splitPoint]) ==  sum(arr[splitPoint:])"
   ]
  },
  {
   "cell_type": "code",
   "execution_count": 22,
   "id": "b911e080",
   "metadata": {},
   "outputs": [
    {
     "name": "stdout",
     "output_type": "stream",
     "text": [
      "Subarrays are identical\n"
     ]
    }
   ],
   "source": [
    "arr = [1,3,2,2,3,1]\n",
    "if check_sub_array_sum(arr):\n",
    "    print(\"Subarrays are identical\")\n",
    "else:\n",
    "    print(\"Sub array caannot be splited into equal parts\")"
   ]
  },
  {
   "cell_type": "raw",
   "id": "4be1afd0",
   "metadata": {},
   "source": [
    "--- More Good approch 2"
   ]
  },
  {
   "cell_type": "code",
   "execution_count": 29,
   "id": "61a0835f",
   "metadata": {},
   "outputs": [],
   "source": [
    "arr2 = [1,3,3,5]\n",
    "arr2.sort()"
   ]
  },
  {
   "cell_type": "code",
   "execution_count": 30,
   "id": "414a9185",
   "metadata": {},
   "outputs": [],
   "source": [
    "lenarr=len(arr2)"
   ]
  },
  {
   "cell_type": "code",
   "execution_count": 37,
   "id": "68cf7d34",
   "metadata": {},
   "outputs": [],
   "source": [
    "lowerBound, higerBound = lenarr-1, lenarr"
   ]
  },
  {
   "cell_type": "code",
   "execution_count": 38,
   "id": "4d4d5eb3",
   "metadata": {},
   "outputs": [
    {
     "data": {
      "text/plain": [
       "3"
      ]
     },
     "execution_count": 38,
     "metadata": {},
     "output_type": "execute_result"
    }
   ],
   "source": [
    "lowerBound"
   ]
  },
  {
   "cell_type": "code",
   "execution_count": null,
   "id": "1823211e",
   "metadata": {},
   "outputs": [],
   "source": []
  },
  {
   "cell_type": "raw",
   "id": "d22379b0",
   "metadata": {},
   "source": []
  },
  {
   "cell_type": "code",
   "execution_count": 18,
   "id": "dbe4e81c",
   "metadata": {},
   "outputs": [],
   "source": []
  },
  {
   "cell_type": "code",
   "execution_count": 19,
   "id": "5b26ac1f",
   "metadata": {},
   "outputs": [
    {
     "name": "stdout",
     "output_type": "stream",
     "text": [
      "Subarrays are identical\n"
     ]
    }
   ],
   "source": []
  },
  {
   "cell_type": "code",
   "execution_count": 20,
   "id": "3715ed8c",
   "metadata": {},
   "outputs": [],
   "source": []
  },
  {
   "cell_type": "code",
   "execution_count": null,
   "id": "327c920a",
   "metadata": {},
   "outputs": [],
   "source": []
  },
  {
   "cell_type": "code",
   "execution_count": null,
   "id": "dd0c4fda",
   "metadata": {},
   "outputs": [],
   "source": []
  }
 ],
 "metadata": {
  "kernelspec": {
   "display_name": "Python 3 (ipykernel)",
   "language": "python",
   "name": "python3"
  },
  "language_info": {
   "codemirror_mode": {
    "name": "ipython",
    "version": 3
   },
   "file_extension": ".py",
   "mimetype": "text/x-python",
   "name": "python",
   "nbconvert_exporter": "python",
   "pygments_lexer": "ipython3",
   "version": "3.11.3"
  }
 },
 "nbformat": 4,
 "nbformat_minor": 5
}
